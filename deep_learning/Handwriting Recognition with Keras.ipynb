{
 "cells": [
  {
   "cell_type": "code",
   "execution_count": 1,
   "metadata": {},
   "outputs": [],
   "source": [
    "from tensorflow import keras\n",
    "from tensorflow.keras.datasets import mnist\n",
    "from tensorflow.keras.models import Sequential\n",
    "from tensorflow.keras.layers import Dense, Dropout\n",
    "from tensorflow.keras.optimizers import RMSprop"
   ]
  },
  {
   "cell_type": "code",
   "execution_count": 2,
   "metadata": {},
   "outputs": [
    {
     "name": "stdout",
     "output_type": "stream",
     "text": [
      "Downloading data from https://storage.googleapis.com/tensorflow/tf-keras-datasets/mnist.npz\n",
      "11493376/11490434 [==============================] - 1s 0us/step\n"
     ]
    }
   ],
   "source": [
    "(mnist_train_images,mnist_train_labels),(mnist_test_images,mnist_test_labels)=mnist.load_data()"
   ]
  },
  {
   "cell_type": "code",
   "execution_count": 4,
   "metadata": {},
   "outputs": [
    {
     "name": "stdout",
     "output_type": "stream",
     "text": [
      "(60000, 28, 28)\n",
      "(10000, 28, 28)\n"
     ]
    }
   ],
   "source": [
    "print(mnist_train_images.shape)\n",
    "print(mnist_test_images.shape)"
   ]
  },
  {
   "cell_type": "code",
   "execution_count": 6,
   "metadata": {},
   "outputs": [],
   "source": [
    "train_image= mnist_train_images.reshape(60000,784)\n",
    "test_image= mnist_test_images.reshape(10000,784)\n",
    "train_image=train_image.astype('float32')\n",
    "test_image=test_image.astype('float32')\n",
    "train_image=train_image/255\n",
    "test_image=test_image/255"
   ]
  },
  {
   "cell_type": "code",
   "execution_count": 7,
   "metadata": {},
   "outputs": [],
   "source": [
    "train_labels=keras.utils.to_categorical(mnist_train_labels,10)\n",
    "test_labels=keras.utils.to_categorical(mnist_test_labels,10)"
   ]
  },
  {
   "cell_type": "code",
   "execution_count": 10,
   "metadata": {},
   "outputs": [],
   "source": [
    "model=Sequential()\n",
    "model.add(Dense(512,activation='relu',input_shape=(784,)))\n",
    "model.add(Dense(10,activation='softmax'))"
   ]
  },
  {
   "cell_type": "code",
   "execution_count": 11,
   "metadata": {},
   "outputs": [
    {
     "name": "stdout",
     "output_type": "stream",
     "text": [
      "_________________________________________________________________\n",
      "Layer (type)                 Output Shape              Param #   \n",
      "=================================================================\n",
      "dense (Dense)                (None, 512)               401920    \n",
      "_________________________________________________________________\n",
      "dense_1 (Dense)              (None, 10)                5130      \n",
      "=================================================================\n",
      "Total params: 407,050\n",
      "Trainable params: 407,050\n",
      "Non-trainable params: 0\n",
      "_________________________________________________________________\n"
     ]
    }
   ],
   "source": [
    "model.summary()"
   ]
  },
  {
   "cell_type": "code",
   "execution_count": 12,
   "metadata": {},
   "outputs": [],
   "source": [
    "model.compile(loss='categorical_crossentropy',optimizer='adam',metrics=['accuracy'])"
   ]
  },
  {
   "cell_type": "code",
   "execution_count": 13,
   "metadata": {},
   "outputs": [
    {
     "name": "stdout",
     "output_type": "stream",
     "text": [
      "Train on 60000 samples, validate on 10000 samples\n",
      "Epoch 1/10\n",
      " - 64s - loss: 0.2489 - acc: 0.9295 - val_loss: 0.1159 - val_acc: 0.9652\n",
      "Epoch 2/10\n",
      " - 62s - loss: 0.1002 - acc: 0.9704 - val_loss: 0.0930 - val_acc: 0.9723\n",
      "Epoch 3/10\n",
      " - 62s - loss: 0.0639 - acc: 0.9810 - val_loss: 0.0736 - val_acc: 0.9761\n",
      "Epoch 4/10\n",
      " - 62s - loss: 0.0446 - acc: 0.9867 - val_loss: 0.0632 - val_acc: 0.9810\n",
      "Epoch 5/10\n",
      " - 64s - loss: 0.0327 - acc: 0.9907 - val_loss: 0.0646 - val_acc: 0.9787\n",
      "Epoch 6/10\n",
      " - 67s - loss: 0.0244 - acc: 0.9930 - val_loss: 0.0651 - val_acc: 0.9790\n",
      "Epoch 7/10\n",
      " - 61s - loss: 0.0187 - acc: 0.9945 - val_loss: 0.0656 - val_acc: 0.9791\n",
      "Epoch 8/10\n",
      " - 65s - loss: 0.0138 - acc: 0.9963 - val_loss: 0.0719 - val_acc: 0.9791\n",
      "Epoch 9/10\n",
      " - 62s - loss: 0.0117 - acc: 0.9970 - val_loss: 0.0621 - val_acc: 0.9810\n",
      "Epoch 10/10\n",
      " - 61s - loss: 0.0096 - acc: 0.9974 - val_loss: 0.0851 - val_acc: 0.9771\n"
     ]
    }
   ],
   "source": [
    "history=model.fit(train_image,train_labels,batch_size=100,epochs=10,verbose=2, validation_data=(test_image, test_labels))"
   ]
  },
  {
   "cell_type": "code",
   "execution_count": 14,
   "metadata": {},
   "outputs": [
    {
     "name": "stdout",
     "output_type": "stream",
     "text": [
      "10000/10000 [==============================] - 5s 546us/step\n",
      "test loss  0.08514476844479213\n",
      "test accuracy  0.9771\n"
     ]
    }
   ],
   "source": [
    "score=model.evaluate(test_image, test_labels)\n",
    "print('test loss ', score[0])\n",
    "print('test accuracy ',score[1])"
   ]
  },
  {
   "cell_type": "code",
   "execution_count": null,
   "metadata": {},
   "outputs": [],
   "source": []
  }
 ],
 "metadata": {
  "kernelspec": {
   "display_name": "Python 3",
   "language": "python",
   "name": "python3"
  },
  "language_info": {
   "codemirror_mode": {
    "name": "ipython",
    "version": 3
   },
   "file_extension": ".py",
   "mimetype": "text/x-python",
   "name": "python",
   "nbconvert_exporter": "python",
   "pygments_lexer": "ipython3",
   "version": "3.5.5"
  }
 },
 "nbformat": 4,
 "nbformat_minor": 2
}
