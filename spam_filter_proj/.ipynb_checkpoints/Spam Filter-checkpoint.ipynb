{
 "cells": [
  {
   "cell_type": "markdown",
   "metadata": {},
   "source": [
    "## Introduction\n",
    "\n",
    "Youtube is one of the most popular video sharing platform with more than 1 billion users. Users have long been outraged by the overwhelming number of spam messages in the comment section. In 2012 users created a petition asking Youtube to provide tools to deal with undesired content. In 2013, spam problem gets worse as Google overhauled the YouTube comment system to connect it to Google+, which allows users to post links. This attracts more malicious users to self-promote their videos using the platform. This project will build a spam filter to automatically filter spam comments.\n",
    "\n",
    "\n",
    "\n",
    "## Data Wrangling\n",
    "\n",
    "In this part we will:\n",
    "\n",
    "    1: load the data into notebook\n",
    "    2: check for any missing values"
   ]
  },
  {
   "cell_type": "code",
   "execution_count": 1,
   "metadata": {},
   "outputs": [],
   "source": [
    "# all libraries that will be used in this project\n",
    "\n",
    "%matplotlib inline\n",
    "import pandas as pd\n",
    "import matplotlib.pyplot as plt\n",
    "import seaborn as sns\n",
    "import numpy as np\n",
    "import glob \n",
    "import re"
   ]
  },
  {
   "cell_type": "code",
   "execution_count": 2,
   "metadata": {},
   "outputs": [
    {
     "data": {
      "text/html": [
       "<div>\n",
       "<style scoped>\n",
       "    .dataframe tbody tr th:only-of-type {\n",
       "        vertical-align: middle;\n",
       "    }\n",
       "\n",
       "    .dataframe tbody tr th {\n",
       "        vertical-align: top;\n",
       "    }\n",
       "\n",
       "    .dataframe thead th {\n",
       "        text-align: right;\n",
       "    }\n",
       "</style>\n",
       "<table border=\"1\" class=\"dataframe\">\n",
       "  <thead>\n",
       "    <tr style=\"text-align: right;\">\n",
       "      <th></th>\n",
       "      <th>COMMENT_ID</th>\n",
       "      <th>AUTHOR</th>\n",
       "      <th>DATE</th>\n",
       "      <th>CONTENT</th>\n",
       "      <th>CLASS</th>\n",
       "      <th>song</th>\n",
       "    </tr>\n",
       "  </thead>\n",
       "  <tbody>\n",
       "    <tr>\n",
       "      <th>0</th>\n",
       "      <td>LZQPQhLyRh80UYxNuaDWhIGQYNQ96IuCg-AYWqNPjpU</td>\n",
       "      <td>Julius NM</td>\n",
       "      <td>2013-11-07T06:20:48</td>\n",
       "      <td>Huh, anyway check out this you[tube] channel: ...</td>\n",
       "      <td>1</td>\n",
       "      <td>Psy</td>\n",
       "    </tr>\n",
       "    <tr>\n",
       "      <th>1</th>\n",
       "      <td>LZQPQhLyRh_C2cTtd9MvFRJedxydaVW-2sNg5Diuo4A</td>\n",
       "      <td>adam riyati</td>\n",
       "      <td>2013-11-07T12:37:15</td>\n",
       "      <td>Hey guys check out my new channel and our firs...</td>\n",
       "      <td>1</td>\n",
       "      <td>Psy</td>\n",
       "    </tr>\n",
       "    <tr>\n",
       "      <th>2</th>\n",
       "      <td>LZQPQhLyRh9MSZYnf8djyk0gEF9BHDPYrrK-qCczIY8</td>\n",
       "      <td>Evgeny Murashkin</td>\n",
       "      <td>2013-11-08T17:34:21</td>\n",
       "      <td>just for test I have to say murdev.com</td>\n",
       "      <td>1</td>\n",
       "      <td>Psy</td>\n",
       "    </tr>\n",
       "    <tr>\n",
       "      <th>3</th>\n",
       "      <td>z13jhp0bxqncu512g22wvzkasxmvvzjaz04</td>\n",
       "      <td>ElNino Melendez</td>\n",
       "      <td>2013-11-09T08:28:43</td>\n",
       "      <td>me shaking my sexy ass on my channel enjoy ^_^ ﻿</td>\n",
       "      <td>1</td>\n",
       "      <td>Psy</td>\n",
       "    </tr>\n",
       "    <tr>\n",
       "      <th>4</th>\n",
       "      <td>z13fwbwp1oujthgqj04chlngpvzmtt3r3dw</td>\n",
       "      <td>GsMega</td>\n",
       "      <td>2013-11-10T16:05:38</td>\n",
       "      <td>watch?v=vtaRGgvGtWQ   Check this out .﻿</td>\n",
       "      <td>1</td>\n",
       "      <td>Psy</td>\n",
       "    </tr>\n",
       "  </tbody>\n",
       "</table>\n",
       "</div>"
      ],
      "text/plain": [
       "                                    COMMENT_ID            AUTHOR  \\\n",
       "0  LZQPQhLyRh80UYxNuaDWhIGQYNQ96IuCg-AYWqNPjpU         Julius NM   \n",
       "1  LZQPQhLyRh_C2cTtd9MvFRJedxydaVW-2sNg5Diuo4A       adam riyati   \n",
       "2  LZQPQhLyRh9MSZYnf8djyk0gEF9BHDPYrrK-qCczIY8  Evgeny Murashkin   \n",
       "3          z13jhp0bxqncu512g22wvzkasxmvvzjaz04   ElNino Melendez   \n",
       "4          z13fwbwp1oujthgqj04chlngpvzmtt3r3dw            GsMega   \n",
       "\n",
       "                  DATE                                            CONTENT  \\\n",
       "0  2013-11-07T06:20:48  Huh, anyway check out this you[tube] channel: ...   \n",
       "1  2013-11-07T12:37:15  Hey guys check out my new channel and our firs...   \n",
       "2  2013-11-08T17:34:21             just for test I have to say murdev.com   \n",
       "3  2013-11-09T08:28:43   me shaking my sexy ass on my channel enjoy ^_^ ﻿   \n",
       "4  2013-11-10T16:05:38            watch?v=vtaRGgvGtWQ   Check this out .﻿   \n",
       "\n",
       "   CLASS song  \n",
       "0      1  Psy  \n",
       "1      1  Psy  \n",
       "2      1  Psy  \n",
       "3      1  Psy  \n",
       "4      1  Psy  "
      ]
     },
     "execution_count": 2,
     "metadata": {},
     "output_type": "execute_result"
    }
   ],
   "source": [
    "# import the files\n",
    "\n",
    "path =r'./data/' \n",
    "allSongs = glob.glob(path + \"/*.csv\")\n",
    "frame = pd.DataFrame()\n",
    "list_songs= []\n",
    "\n",
    "for file in allSongs:\n",
    "    frame = pd.read_csv(file)\n",
    "    frame['song']=re.search(r\"-(.*?).csv\", file).group(1)\n",
    "    list_songs.append(frame)\n",
    "    \n",
    "df = pd.concat(list_songs)\n",
    "df.head()\n"
   ]
  },
  {
   "cell_type": "code",
   "execution_count": 3,
   "metadata": {},
   "outputs": [
    {
     "name": "stdout",
     "output_type": "stream",
     "text": [
      "<class 'pandas.core.frame.DataFrame'>\n",
      "Int64Index: 1956 entries, 0 to 369\n",
      "Data columns (total 6 columns):\n",
      "COMMENT_ID    1956 non-null object\n",
      "AUTHOR        1956 non-null object\n",
      "DATE          1711 non-null object\n",
      "CONTENT       1956 non-null object\n",
      "CLASS         1956 non-null int64\n",
      "song          1956 non-null object\n",
      "dtypes: int64(1), object(5)\n",
      "memory usage: 107.0+ KB\n"
     ]
    }
   ],
   "source": [
    "df.info()"
   ]
  },
  {
   "cell_type": "code",
   "execution_count": 4,
   "metadata": {},
   "outputs": [
    {
     "name": "stdout",
     "output_type": "stream",
     "text": [
      "<class 'pandas.core.frame.DataFrame'>\n",
      "Int64Index: 1956 entries, 0 to 369\n",
      "Data columns (total 6 columns):\n",
      "COMMENT_ID    1956 non-null object\n",
      "AUTHOR        1956 non-null object\n",
      "DATE          1956 non-null object\n",
      "CONTENT       1956 non-null object\n",
      "CLASS         1956 non-null int64\n",
      "song          1956 non-null object\n",
      "dtypes: int64(1), object(5)\n",
      "memory usage: 107.0+ KB\n"
     ]
    }
   ],
   "source": [
    "df['DATE']=df['DATE'].fillna(method='ffill')\n",
    "df.info()"
   ]
  },
  {
   "cell_type": "code",
   "execution_count": 5,
   "metadata": {},
   "outputs": [
    {
     "data": {
      "text/html": [
       "<div>\n",
       "<style scoped>\n",
       "    .dataframe tbody tr th:only-of-type {\n",
       "        vertical-align: middle;\n",
       "    }\n",
       "\n",
       "    .dataframe tbody tr th {\n",
       "        vertical-align: top;\n",
       "    }\n",
       "\n",
       "    .dataframe thead th {\n",
       "        text-align: right;\n",
       "    }\n",
       "</style>\n",
       "<table border=\"1\" class=\"dataframe\">\n",
       "  <thead>\n",
       "    <tr style=\"text-align: right;\">\n",
       "      <th></th>\n",
       "      <th>COMMENT_ID</th>\n",
       "      <th>AUTHOR</th>\n",
       "      <th>CONTENT</th>\n",
       "      <th>CLASS</th>\n",
       "      <th>song</th>\n",
       "    </tr>\n",
       "    <tr>\n",
       "      <th>DATE</th>\n",
       "      <th></th>\n",
       "      <th></th>\n",
       "      <th></th>\n",
       "      <th></th>\n",
       "      <th></th>\n",
       "    </tr>\n",
       "  </thead>\n",
       "  <tbody>\n",
       "    <tr>\n",
       "      <th>2013-11-07 06:20:48</th>\n",
       "      <td>LZQPQhLyRh80UYxNuaDWhIGQYNQ96IuCg-AYWqNPjpU</td>\n",
       "      <td>Julius NM</td>\n",
       "      <td>Huh, anyway check out this you[tube] channel: ...</td>\n",
       "      <td>1</td>\n",
       "      <td>Psy</td>\n",
       "    </tr>\n",
       "    <tr>\n",
       "      <th>2013-11-07 12:37:15</th>\n",
       "      <td>LZQPQhLyRh_C2cTtd9MvFRJedxydaVW-2sNg5Diuo4A</td>\n",
       "      <td>adam riyati</td>\n",
       "      <td>Hey guys check out my new channel and our firs...</td>\n",
       "      <td>1</td>\n",
       "      <td>Psy</td>\n",
       "    </tr>\n",
       "    <tr>\n",
       "      <th>2013-11-08 17:34:21</th>\n",
       "      <td>LZQPQhLyRh9MSZYnf8djyk0gEF9BHDPYrrK-qCczIY8</td>\n",
       "      <td>Evgeny Murashkin</td>\n",
       "      <td>just for test I have to say murdev.com</td>\n",
       "      <td>1</td>\n",
       "      <td>Psy</td>\n",
       "    </tr>\n",
       "    <tr>\n",
       "      <th>2013-11-09 08:28:43</th>\n",
       "      <td>z13jhp0bxqncu512g22wvzkasxmvvzjaz04</td>\n",
       "      <td>ElNino Melendez</td>\n",
       "      <td>me shaking my sexy ass on my channel enjoy ^_^ ﻿</td>\n",
       "      <td>1</td>\n",
       "      <td>Psy</td>\n",
       "    </tr>\n",
       "    <tr>\n",
       "      <th>2013-11-10 16:05:38</th>\n",
       "      <td>z13fwbwp1oujthgqj04chlngpvzmtt3r3dw</td>\n",
       "      <td>GsMega</td>\n",
       "      <td>watch?v=vtaRGgvGtWQ   Check this out .﻿</td>\n",
       "      <td>1</td>\n",
       "      <td>Psy</td>\n",
       "    </tr>\n",
       "  </tbody>\n",
       "</table>\n",
       "</div>"
      ],
      "text/plain": [
       "                                                      COMMENT_ID  \\\n",
       "DATE                                                               \n",
       "2013-11-07 06:20:48  LZQPQhLyRh80UYxNuaDWhIGQYNQ96IuCg-AYWqNPjpU   \n",
       "2013-11-07 12:37:15  LZQPQhLyRh_C2cTtd9MvFRJedxydaVW-2sNg5Diuo4A   \n",
       "2013-11-08 17:34:21  LZQPQhLyRh9MSZYnf8djyk0gEF9BHDPYrrK-qCczIY8   \n",
       "2013-11-09 08:28:43          z13jhp0bxqncu512g22wvzkasxmvvzjaz04   \n",
       "2013-11-10 16:05:38          z13fwbwp1oujthgqj04chlngpvzmtt3r3dw   \n",
       "\n",
       "                               AUTHOR  \\\n",
       "DATE                                    \n",
       "2013-11-07 06:20:48         Julius NM   \n",
       "2013-11-07 12:37:15       adam riyati   \n",
       "2013-11-08 17:34:21  Evgeny Murashkin   \n",
       "2013-11-09 08:28:43   ElNino Melendez   \n",
       "2013-11-10 16:05:38            GsMega   \n",
       "\n",
       "                                                               CONTENT  CLASS  \\\n",
       "DATE                                                                            \n",
       "2013-11-07 06:20:48  Huh, anyway check out this you[tube] channel: ...      1   \n",
       "2013-11-07 12:37:15  Hey guys check out my new channel and our firs...      1   \n",
       "2013-11-08 17:34:21             just for test I have to say murdev.com      1   \n",
       "2013-11-09 08:28:43   me shaking my sexy ass on my channel enjoy ^_^ ﻿      1   \n",
       "2013-11-10 16:05:38            watch?v=vtaRGgvGtWQ   Check this out .﻿      1   \n",
       "\n",
       "                    song  \n",
       "DATE                      \n",
       "2013-11-07 06:20:48  Psy  \n",
       "2013-11-07 12:37:15  Psy  \n",
       "2013-11-08 17:34:21  Psy  \n",
       "2013-11-09 08:28:43  Psy  \n",
       "2013-11-10 16:05:38  Psy  "
      ]
     },
     "execution_count": 5,
     "metadata": {},
     "output_type": "execute_result"
    }
   ],
   "source": [
    "df['DATE']=pd.to_datetime(df['DATE'])\n",
    "df=df.set_index('DATE')\n",
    "df.head()"
   ]
  },
  {
   "cell_type": "code",
   "execution_count": 6,
   "metadata": {},
   "outputs": [
    {
     "data": {
      "text/plain": [
       "CLASS\n",
       "0     951\n",
       "1    1005\n",
       "dtype: int64"
      ]
     },
     "execution_count": 6,
     "metadata": {},
     "output_type": "execute_result"
    }
   ],
   "source": [
    "df.groupby('CLASS').size()"
   ]
  },
  {
   "cell_type": "markdown",
   "metadata": {},
   "source": [
    "\n",
    "There are total of 1956 comments in this data for the 5 most popular songs. 951 hams and 1005 spams. There are some missing values in the column of date, since the comments appear sequentially in time, we can use either forward fill or backward fill to estimate the time when that comment is made. The CLASS section is the label: 1 means spam and 0 means ham. \n",
    "\n",
    "\n",
    "## Data Analysis\n",
    "\n",
    "We start the data analysis by asking some basic questions on the dataset:\n",
    "\n",
    "    *is the average length of comment different among ham and spam?\n",
    "    *can we identify some suspicious user account that seems relate to spam?\n",
    "    *are spam comments more likely to have a URL in them?\n",
    "    *does the spam comments have any correlation with time? (if it's fake account, maybe it's setup to send out spam comments periodically.)\n"
   ]
  },
  {
   "cell_type": "code",
   "execution_count": 7,
   "metadata": {},
   "outputs": [],
   "source": [
    "# check the length of the comment.\n",
    "\n",
    "# first expand contractions, so aren't will be are not so it's counted as two words.\n",
    "\n",
    "import contractions\n",
    "\n",
    "def contraction_expand(text):\n",
    "    return contractions.fix(text)\n",
    "\n",
    "df['CONTENT']=df['CONTENT'].apply(contraction_expand)"
   ]
  },
  {
   "cell_type": "code",
   "execution_count": 8,
   "metadata": {},
   "outputs": [
    {
     "data": {
      "text/html": [
       "<div>\n",
       "<style scoped>\n",
       "    .dataframe tbody tr th:only-of-type {\n",
       "        vertical-align: middle;\n",
       "    }\n",
       "\n",
       "    .dataframe tbody tr th {\n",
       "        vertical-align: top;\n",
       "    }\n",
       "\n",
       "    .dataframe thead th {\n",
       "        text-align: right;\n",
       "    }\n",
       "</style>\n",
       "<table border=\"1\" class=\"dataframe\">\n",
       "  <thead>\n",
       "    <tr style=\"text-align: right;\">\n",
       "      <th></th>\n",
       "      <th>mean</th>\n",
       "      <th>std</th>\n",
       "      <th>min</th>\n",
       "      <th>max</th>\n",
       "    </tr>\n",
       "    <tr>\n",
       "      <th>CLASS</th>\n",
       "      <th></th>\n",
       "      <th></th>\n",
       "      <th></th>\n",
       "      <th></th>\n",
       "    </tr>\n",
       "  </thead>\n",
       "  <tbody>\n",
       "    <tr>\n",
       "      <th>0</th>\n",
       "      <td>49.827550</td>\n",
       "      <td>56.526731</td>\n",
       "      <td>2</td>\n",
       "      <td>755</td>\n",
       "    </tr>\n",
       "    <tr>\n",
       "      <th>1</th>\n",
       "      <td>137.769154</td>\n",
       "      <td>159.459172</td>\n",
       "      <td>10</td>\n",
       "      <td>1200</td>\n",
       "    </tr>\n",
       "  </tbody>\n",
       "</table>\n",
       "</div>"
      ],
      "text/plain": [
       "             mean         std  min   max\n",
       "CLASS                                   \n",
       "0       49.827550   56.526731    2   755\n",
       "1      137.769154  159.459172   10  1200"
      ]
     },
     "execution_count": 8,
     "metadata": {},
     "output_type": "execute_result"
    }
   ],
   "source": [
    "\n",
    "#calculate sentence length\n",
    "\n",
    "df['length']=df['CONTENT'].apply(len)\n",
    "\n",
    "df.groupby('CLASS')['length'].agg(['mean','std','min','max'])"
   ]
  },
  {
   "cell_type": "code",
   "execution_count": 9,
   "metadata": {},
   "outputs": [
    {
     "data": {
      "text/plain": [
       "Text(0,0.5,'counts')"
      ]
     },
     "execution_count": 9,
     "metadata": {},
     "output_type": "execute_result"
    },
    {
     "data": {
      "image/png": "[encoded data removed]",
      "text/plain": [
       "<Figure size 720x360 with 2 Axes>"
      ]
     },
     "metadata": {},
     "output_type": "display_data"
    }
   ],
   "source": [
    "f,(ax1,ax2)=plt.subplots(1,2,figsize=(10,5))\n",
    "ax1.hist(df[df['CLASS']==1].length,bins=3)\n",
    "ax1.set_xlabel('spam comments length')\n",
    "ax1.set_ylabel('counts')\n",
    "ax2.hist(df[df['CLASS']==0].length,bins=3)\n",
    "ax2.set_xlabel('ham comments length')\n",
    "ax2.set_ylabel('counts')"
   ]
  },
  {
   "cell_type": "markdown",
   "metadata": {},
   "source": [
    "The average length of spam vs ham comments are different. "
   ]
  },
  {
   "cell_type": "code",
   "execution_count": 10,
   "metadata": {},
   "outputs": [
    {
     "data": {
      "text/plain": [
       "0.14008179959100203"
      ]
     },
     "execution_count": 10,
     "metadata": {},
     "output_type": "execute_result"
    }
   ],
   "source": [
    "## check if there contains URL\n",
    "## some Youtube URL format contains watch? \n",
    "\n",
    "def URL (string):\n",
    "    pattern=r'(http[s]?://*)|(watch?)'\n",
    "    return (bool(re.search(pattern,string)))\n",
    "\n",
    "df['URL']=df['CONTENT'].apply(URL)\n",
    "sum(df['URL'])/len(df['URL'])\n"
   ]
  },
  {
   "cell_type": "code",
   "execution_count": 11,
   "metadata": {},
   "outputs": [
    {
     "data": {
      "text/plain": [
       "CLASS\n",
       "0     40.0\n",
       "1    234.0\n",
       "Name: URL, dtype: float64"
      ]
     },
     "execution_count": 11,
     "metadata": {},
     "output_type": "execute_result"
    }
   ],
   "source": [
    "\n",
    "URL_dist=df.groupby('CLASS')['URL'].agg(sum)\n",
    "URL_dist"
   ]
  },
  {
   "cell_type": "markdown",
   "metadata": {},
   "source": [
    "about 14% of the comments contains URL, and most URLs are found in spam comments."
   ]
  },
  {
   "cell_type": "code",
   "execution_count": 12,
   "metadata": {},
   "outputs": [
    {
     "data": {
      "text/plain": [
       "Text(0.5,1,'percentage of spam or ham in comments that contain URL')"
      ]
     },
     "execution_count": 12,
     "metadata": {},
     "output_type": "execute_result"
    },
    {
     "data": {
      "image/png": "[encoded data removed]",
      "text/plain": [
       "<Figure size 432x288 with 1 Axes>"
      ]
     },
     "metadata": {},
     "output_type": "display_data"
    }
   ],
   "source": [
    "plt.pie(URL_dist/sum(URL_dist), labels=['ham','spam'],autopct='%1.1f%%')\n",
    "plt.title('percentage of spam or ham in comments that contain URL')"
   ]
  },
  {
   "cell_type": "code",
   "execution_count": 13,
   "metadata": {},
   "outputs": [
    {
     "data": {
      "text/plain": [
       "DATE\n",
       "2013-11-07 06:20:48    0.017857\n",
       "2013-11-07 12:37:15    0.119760\n",
       "2013-11-08 17:34:21    0.026316\n",
       "2013-11-09 08:28:43    0.000000\n",
       "2013-11-10 16:05:38    0.153846\n",
       "Name: capital, dtype: float64"
      ]
     },
     "execution_count": 13,
     "metadata": {},
     "output_type": "execute_result"
    }
   ],
   "source": [
    "# calculate percentage of capital letters in a comment\n",
    "\n",
    "def capital_letters(string):\n",
    "    return (len(re.findall('[A-Z]',string))/len(string))\n",
    "\n",
    "df['capital']=df['CONTENT'].apply(capital_letters)\n",
    "df['capital'].head()"
   ]
  },
  {
   "cell_type": "code",
   "execution_count": 14,
   "metadata": {},
   "outputs": [
    {
     "data": {
      "text/html": [
       "<div>\n",
       "<style scoped>\n",
       "    .dataframe tbody tr th:only-of-type {\n",
       "        vertical-align: middle;\n",
       "    }\n",
       "\n",
       "    .dataframe tbody tr th {\n",
       "        vertical-align: top;\n",
       "    }\n",
       "\n",
       "    .dataframe thead th {\n",
       "        text-align: right;\n",
       "    }\n",
       "</style>\n",
       "<table border=\"1\" class=\"dataframe\">\n",
       "  <thead>\n",
       "    <tr style=\"text-align: right;\">\n",
       "      <th></th>\n",
       "      <th>mean</th>\n",
       "      <th>std</th>\n",
       "      <th>min</th>\n",
       "      <th>max</th>\n",
       "    </tr>\n",
       "    <tr>\n",
       "      <th>CLASS</th>\n",
       "      <th></th>\n",
       "      <th></th>\n",
       "      <th></th>\n",
       "      <th></th>\n",
       "    </tr>\n",
       "  </thead>\n",
       "  <tbody>\n",
       "    <tr>\n",
       "      <th>0</th>\n",
       "      <td>0.090289</td>\n",
       "      <td>0.161128</td>\n",
       "      <td>0.0</td>\n",
       "      <td>1.000000</td>\n",
       "    </tr>\n",
       "    <tr>\n",
       "      <th>1</th>\n",
       "      <td>0.108451</td>\n",
       "      <td>0.173301</td>\n",
       "      <td>0.0</td>\n",
       "      <td>0.919355</td>\n",
       "    </tr>\n",
       "  </tbody>\n",
       "</table>\n",
       "</div>"
      ],
      "text/plain": [
       "           mean       std  min       max\n",
       "CLASS                                   \n",
       "0      0.090289  0.161128  0.0  1.000000\n",
       "1      0.108451  0.173301  0.0  0.919355"
      ]
     },
     "execution_count": 14,
     "metadata": {},
     "output_type": "execute_result"
    }
   ],
   "source": [
    "df.groupby('CLASS')['capital'].agg(['mean','std','min','max'])"
   ]
  },
  {
   "cell_type": "markdown",
   "metadata": {},
   "source": [
    "perform a significant test here"
   ]
  },
  {
   "cell_type": "code",
   "execution_count": 15,
   "metadata": {},
   "outputs": [
    {
     "data": {
      "text/plain": [
       "CLASS  AUTHOR               \n",
       "0      5000palo                 7\n",
       "       Marshmallow Kingdom      3\n",
       "       Seth Ryan                3\n",
       "       Alain Bruno              2\n",
       "       Athena Gomez             2\n",
       "       BigBird Larry            2\n",
       "       Brian Brai               2\n",
       "       Chris Madzier            2\n",
       "       D Maw                    2\n",
       "       Eric Gonzalez            2\n",
       "       Juan Martinez            2\n",
       "       LaiLa Steudle            2\n",
       "       LiveLikeLien x           2\n",
       "       Naga Berapi              2\n",
       "       Paul Crowder             2\n",
       "       Pepe The Meme King       2\n",
       "       Sonny Carter             2\n",
       "       The Technology Zoo       2\n",
       "       Warcorpse666             2\n",
       "       janet rangel             2\n",
       "       lol Ippocastano          2\n",
       "       tyler sleetway           2\n",
       "          Berty  Winata         1\n",
       "       Aarjav Parmar            1\n",
       "       Abdinasir Omar           1\n",
       "       Abdou Abdou              1\n",
       "       Abdullah Alawani         1\n",
       "       Abhi Vats                1\n",
       "       Abhishek Kumar Gendah    1\n",
       "       Abigail Gustav           1\n",
       "                               ..\n",
       "1      tchangkou                1\n",
       "       the34104                 1\n",
       "       themagicmangotree        1\n",
       "       themind blasters         1\n",
       "       ultimatecleanmusic       1\n",
       "       vinh nguyen              1\n",
       "       volleyballspikerable     1\n",
       "       xXxPWND 420xXx           1\n",
       "       xiaoying chen            1\n",
       "       yakikukamo FIRELOVER     1\n",
       "       zakaia ziko              1\n",
       "       zeynep saka              1\n",
       "       zonZi                    1\n",
       "       ||GuitarZ||              1\n",
       "       Æle Skittles             1\n",
       "       Александр Федоров        1\n",
       "       Михаил Панкратов         1\n",
       "       Никита Безухов           1\n",
       "       Олег Пась                1\n",
       "       Олег Хижняк              1\n",
       "       алексей алгаев           1\n",
       "       احمد الهوارى             1\n",
       "       ‫הילה שוהם‬‎             1\n",
       "       ‫انس الغامدي‬‎           1\n",
       "       ‫جوجو جوجو‬‎             1\n",
       "       ‫حلم الشباب‬‎            1\n",
       "       ‫غاردينا خالد‬‎          1\n",
       "       이 정훈                     1\n",
       "       조윤기                      1\n",
       "       ＯＧＶＡＤＥＲ                  1\n",
       "Name: AUTHOR, Length: 1793, dtype: int64"
      ]
     },
     "execution_count": 15,
     "metadata": {},
     "output_type": "execute_result"
    }
   ],
   "source": [
    "df.groupby('CLASS')['AUTHOR'].value_counts()"
   ]
  },
  {
   "cell_type": "markdown",
   "metadata": {},
   "source": [
    "We have 1793 unique user names in this dataset. There is a small fraction of users who make multiple comments but all of users who created spams only combment once. It's noticed that some spam accounts are from foreign countries (since their names are not English character). Next we will see how many foreign user names for spam and ham group."
   ]
  },
  {
   "cell_type": "code",
   "execution_count": 16,
   "metadata": {},
   "outputs": [
    {
     "data": {
      "text/plain": [
       "CLASS  user_isEnglish\n",
       "0      True              901\n",
       "       False              50\n",
       "1      True              956\n",
       "       False              49\n",
       "Name: user_isEnglish, dtype: int64"
      ]
     },
     "execution_count": 16,
     "metadata": {},
     "output_type": "execute_result"
    }
   ],
   "source": [
    "# how many of non_english characters in the username\n",
    "\n",
    "def isEnglish(s):\n",
    "    try:\n",
    "        s.encode(encoding='utf-8').decode('ascii')\n",
    "    except UnicodeDecodeError:\n",
    "        return False\n",
    "    else:\n",
    "        return True\n",
    "    \n",
    "df['user_isEnglish']=df['AUTHOR'].apply(isEnglish)\n",
    "df.groupby('CLASS')['user_isEnglish'].value_counts()"
   ]
  },
  {
   "cell_type": "code",
   "execution_count": 17,
   "metadata": {},
   "outputs": [
    {
     "data": {
      "text/plain": [
       "DATE\n",
       "2014-11-03 21:38:17.000                              Никита Безухов\n",
       "2014-11-03 22:22:14.000                            Михаил Панкратов\n",
       "2014-11-03 23:29:00.000                                   Олег Пась\n",
       "2014-11-06 22:40:49.000                                 David Boček\n",
       "2014-11-07 12:08:13.000                              Uroš Slemenjak\n",
       "2014-11-07 17:06:48.000                          O sábio das 7 eras\n",
       "2014-11-13 07:59:33.000                           Александр Федоров\n",
       "2014-11-13 21:48:26.000                               Tofik Miedzyń\n",
       "2014-08-16 07:24:50.000                               Cléda Dimitri\n",
       "2014-08-28 03:53:35.000                                  Mai Nguyễn\n",
       "2014-09-10 01:50:55.000                                Nicolás Jara\n",
       "2014-09-10 21:38:12.000                               Mättr Valleni\n",
       "2014-10-03 15:28:05.000                     Mehmet Ertuğrul Tohumcu\n",
       "2014-10-24 09:55:30.000                                احمد الهوارى\n",
       "2014-11-01 02:37:29.000                            Nedim Alp SEÇGEL\n",
       "2014-11-06 19:50:16.000                          Quinho Divulgaçoes\n",
       "2014-11-07 12:16:21.000                              Uroš Slemenjak\n",
       "2015-05-17 14:02:31.882    TelePricol - FUNNY VIDEOS,ЛУЧШИЕ ПРИКОЛЫ\n",
       "2015-05-15 14:58:48.131                     Synchronized™ Nightcore\n",
       "2015-05-13 17:15:41.261             Almohtarif Info | المحترف انفو‎\n",
       "2015-04-28 01:07:30.541                                NerdyQueen〈3\n",
       "2015-04-17 15:50:59.010                                ‫הילה שוהם‬‎\n",
       "2015-03-28 14:03:55.093                                VidéoRiveaux\n",
       "2015-03-22 15:10:43.815                                 CHM Guitar™\n",
       "2015-03-21 18:25:05.665                                         조윤기\n",
       "2015-03-14 16:16:22.607                          Villads Hallundbæk\n",
       "2015-03-03 20:32:54.736                                 Олег Хижняк\n",
       "2015-03-01 11:29:19.167                               Jephone Cañas\n",
       "2015-02-17 04:25:01.940                                ‫جوجو جوجو‬‎\n",
       "2015-02-01 15:51:59.518                              алексей алгаев\n",
       "2015-01-12 06:06:06.398                             ‫غاردينا خالد‬‎\n",
       "2015-01-10 22:00:57.333                              ‫مريم الهندي‬‎\n",
       "2015-01-10 22:00:55.762                              ‫مريم الهندي‬‎\n",
       "2014-12-17 15:37:12.685                                Janja Kmetič\n",
       "2014-09-29 02:54:58.986                                     ＯＧＶＡＤＥＲ\n",
       "2014-08-31 16:39:30.472                       Kikilaronk “Kiki” Loz\n",
       "2014-08-31 12:06:37.835                                   Dávvvid ツ\n",
       "2015-05-28 20:24:21.778                         Martin Gébele MUSIC\n",
       "2015-05-24 09:44:44.694                                Æle Skittles\n",
       "2015-05-23 08:55:42.007                                        이 정훈\n",
       "2015-05-23 04:15:02.178                                 Noise​Break\n",
       "2015-05-21 22:35:35.753                              Greg Fils Aimé\n",
       "2015-05-25 23:42:49.533                               ‫حلم الشباب‬‎\n",
       "2015-05-09 00:09:35.368                              ‫انس الغامدي‬‎\n",
       "2013-09-21 22:11:23.900                                 Noise​Break\n",
       "2013-09-10 23:18:01.455                              Greg Fils Aimé\n",
       "2013-09-06 09:38:13.854                    Krystian Konrad Moreński\n",
       "2013-09-06 09:36:48.076                    Krystian Konrad Moreński\n",
       "2013-08-13 19:18:54.893                                Stanša Matej\n",
       "Name: AUTHOR, dtype: object"
      ]
     },
     "execution_count": 17,
     "metadata": {},
     "output_type": "execute_result"
    }
   ],
   "source": [
    "df[(df['CLASS']==1) & (df['user_isEnglish']==False)]['AUTHOR']"
   ]
  },
  {
   "cell_type": "markdown",
   "metadata": {},
   "source": [
    "There is not much suspecious account we can see by looking at ethenity groups from user names. "
   ]
  },
  {
   "cell_type": "code",
   "execution_count": 31,
   "metadata": {},
   "outputs": [
    {
     "data": {
      "text/plain": [
       "<matplotlib.legend.Legend at 0x1a20c7e2e8>"
      ]
     },
     "execution_count": 31,
     "metadata": {},
     "output_type": "execute_result"
    },
    {
     "data": {
      "image/png": "[encoded data removed]",
      "text/plain": [
       "<Figure size 432x288 with 1 Axes>"
      ]
     },
     "metadata": {},
     "output_type": "display_data"
    }
   ],
   "source": [
    "\n",
    "# explore the distribution of # of spam/ham among hours and day of week\n",
    "\n",
    "spam=df[df['CLASS']==1]\n",
    "ham=df[df['CLASS']==0]\n",
    "\n",
    "spam_by_weekday=spam.groupby(spam.index.dayofweek).size()\n",
    "ham_by_weekday=ham.groupby(ham.index.dayofweek).size()\n",
    "\n",
    "spam_by_weekday.plot(label='spam')\n",
    "ham_by_weekday.plot(label='ham')\n",
    "plt.xticks(np.arange(7),('Mon','Tue','Wed','Thur','Fri','Sat','Sun'))\n",
    "plt.xlabel('day of the week')\n",
    "plt.ylabel('# of comments')\n",
    "plt.legend(loc='upper right')\n"
   ]
  },
  {
   "cell_type": "code",
   "execution_count": 32,
   "metadata": {},
   "outputs": [
    {
     "data": {
      "text/plain": [
       "<matplotlib.legend.Legend at 0x1a20cadcc0>"
      ]
     },
     "execution_count": 32,
     "metadata": {},
     "output_type": "execute_result"
    },
    {
     "data": {
      "image/png": "[encoded data removed]",
      "text/plain": [
       "<Figure size 432x288 with 1 Axes>"
      ]
     },
     "metadata": {},
     "output_type": "display_data"
    }
   ],
   "source": [
    "spam_by_weekday=spam.groupby(spam.index.hour).size()\n",
    "ham_by_weekday=ham.groupby(ham.index.hour).size()\n",
    "\n",
    "spam_by_weekday.plot(label='spam')\n",
    "ham_by_weekday.plot(label='ham')\n",
    "#plt.xticks(np.arange(7),('Mon','Tue','Wed','Thur','Fri','Sat','Sun'))\n",
    "plt.xlabel('hour of the day')\n",
    "plt.ylabel('# of comments')\n",
    "plt.legend(loc='upper right')"
   ]
  },
  {
   "cell_type": "markdown",
   "metadata": {},
   "source": [
    "These two graphs show interesting user behaviour. As we expected, users tend to make more comments in late afternoon throughout the night. We see most spam and ham comments are made b/t 5pm to 1 or 2am. Less comments are made on Sunday and Monday. Probably due to people are busy to start their new week (prep food for kids, run errands etc) and spend less time online. While ham comments are made evenly throughout the rest of week (Tuesday to Saturday), spam comments spike on Thursday and shows some zigzag behavior. There could be a lot of reasons. One explaination could be that spam accounts are programmed to send out spam comments periodically so they are more clustered around certain time."
   ]
  },
  {
   "cell_type": "markdown",
   "metadata": {},
   "source": [
    "### Dimension reduction analysis\n",
    "\n",
    "It will be interesting to see if there is any patterns in the ham/spam group. In this subsection, we will explore suing PCA to reduce the feature dimension and visualize the pattern b/t ham and spam.\n"
   ]
  },
  {
   "cell_type": "code",
   "execution_count": 46,
   "metadata": {},
   "outputs": [
    {
     "data": {
      "text/plain": [
       "<8x8 sparse matrix of type '<class 'numpy.int64'>'\n",
       "\twith 8 stored elements in Compressed Sparse Row format>"
      ]
     },
     "execution_count": 46,
     "metadata": {},
     "output_type": "execute_result"
    }
   ],
   "source": [
    "# create bag of words using CountVectorizer\n",
    "\n",
    "from sklearn.feature_extraction.text import CountVectorizer\n",
    "from sklearn.preprocessing import StandardScaler\n",
    "from sklearn.decomposition import TruncatedSVD\n",
    "\n",
    "X=df.drop(['CLASS'],axis=1)\n",
    "y=df['CLASS']\n",
    "X.shape\n",
    "\n",
    "vectorizer=CountVectorizer(stop_words='english')\n",
    "bag_words=vectorizer.fit_transform(X)\n",
    "bag_words\n",
    "#scaler=StandardScaler(with_mean=False)\n",
    "#scaled_words=scaler.fit_transform(bag_words)\n",
    "#svd=TruncatedSVD(n_components=2,random_state=10)\n",
    "#X_transform=svd.fit_transform(scaled_words)\n",
    "#X_transform.shape\n",
    "\n",
    "\n",
    "#fig, ax = plt.subplots()\n",
    "#ax.plot(X_transform[:,0],X_transform[:,1],c=y)\n",
    "#ax.set_xlabel('component 1')\n",
    "#ax.set_ylabel('component 2')\n"
   ]
  },
  {
   "cell_type": "markdown",
   "metadata": {},
   "source": [
    "## Machine learning model\n",
    "\n",
    "In this section we are going to build classifiers to filter out spam. \n",
    "\n",
    "As a first step, let's start with something simple. Let's create a bag of words and use naive-bayes."
   ]
  },
  {
   "cell_type": "code",
   "execution_count": null,
   "metadata": {},
   "outputs": [],
   "source": [
    "# create a bag of words\n",
    "# train with naive bayes\n",
    "\n",
    "from sklearn.feature_extraction.text import CountVectorizer\n",
    "from sklearn.pipeline import Pipeline\n",
    "from sklearn.model_selection import train_test_split\n",
    "from sklearn.naive_bayes import MultinomialNB\n",
    "from sklearn.metrics import *\n",
    "\n",
    "X=df.drop(['CLASS'],axis=1)\n",
    "y=df['CLASS']\n",
    "X_train,X_test,y_train,y_test=train_test_split(X,y)\n",
    "\n",
    "pl=Pipeline([('vec',CountVectorizer()),('clf',MultinomialNB())])\n",
    "pl.fit(X_train['CONTENT'],y_train)\n",
    "print(\"the confusion matrix: \\n\", confusion_matrix(y_test,pl.predict(X_test['CONTENT'])))\n",
    "print(\"the accuracy score is \", accuracy_score(y_test,pl.predict(X_test['CONTENT'])))\n"
   ]
  },
  {
   "cell_type": "code",
   "execution_count": null,
   "metadata": {},
   "outputs": [],
   "source": [
    "# using logistic regression\n",
    "# use cross validation to tune hypoparameters\n",
    "\n",
    "from sklearn.linear_model import LogisticRegression()\n",
    "\n"
   ]
  },
  {
   "cell_type": "code",
   "execution_count": null,
   "metadata": {},
   "outputs": [],
   "source": [
    "# bag of words will create a lot of features and we know that SVM works good with high dimensions. Let's try SVM\n",
    "\n"
   ]
  },
  {
   "cell_type": "code",
   "execution_count": null,
   "metadata": {},
   "outputs": [],
   "source": [
    "# next we explore if more features are added\n",
    "# add length of the comment\n",
    "# add if it contain URL\n"
   ]
  }
 ],
 "metadata": {
  "kernelspec": {
   "display_name": "Python 3",
   "language": "python",
   "name": "python3"
  },
  "language_info": {
   "codemirror_mode": {
    "name": "ipython",
    "version": 3
   },
   "file_extension": ".py",
   "mimetype": "text/x-python",
   "name": "python",
   "nbconvert_exporter": "python",
   "pygments_lexer": "ipython3",
   "version": "3.5.5"
  }
 },
 "nbformat": 4,
 "nbformat_minor": 2
}
