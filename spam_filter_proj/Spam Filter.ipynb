{
 "cells": [
  {
   "cell_type": "markdown",
   "metadata": {},
   "source": [
    "## Introduction\n",
    "\n",
    "Youtube is one of the most popular video sharing platform with more than 1 billion users. Users have long been outraged by the overwhelming number of spam messages in the comment section. In 2012 users created a petition asking Youtube to provide tools to deal with undesired content. In 2013, spam problem gets worse as Google overhauled the YouTube comment system to connect it to Google+, which allows users to post links. This attracts more malicious users to self-promote their videos using the platform. This project will build a spam filter to automatically filter spam comments.\n",
    "\n",
    "\n",
    "\n",
    "## Data Wrangling\n",
    "\n",
    "In this part we will:\n",
    "\n",
    "    1: load the data into notebook\n",
    "    2: check for any missing values"
   ]
  },
  {
   "cell_type": "code",
   "execution_count": 1,
   "metadata": {},
   "outputs": [],
   "source": [
    "\n",
    "%matplotlib inline\n",
    "import pandas as pd\n",
    "import matplotlib.pyplot as plt\n",
    "import matplotlib.pylab as py\n",
    "import seaborn as sns\n",
    "import numpy as np\n",
    "import glob \n",
    "import re"
   ]
  },
  {
   "cell_type": "code",
   "execution_count": 2,
   "metadata": {},
   "outputs": [
    {
     "data": {
      "text/html": [
       "<div>\n",
       "<style scoped>\n",
       "    .dataframe tbody tr th:only-of-type {\n",
       "        vertical-align: middle;\n",
       "    }\n",
       "\n",
       "    .dataframe tbody tr th {\n",
       "        vertical-align: top;\n",
       "    }\n",
       "\n",
       "    .dataframe thead th {\n",
       "        text-align: right;\n",
       "    }\n",
       "</style>\n",
       "<table border=\"1\" class=\"dataframe\">\n",
       "  <thead>\n",
       "    <tr style=\"text-align: right;\">\n",
       "      <th></th>\n",
       "      <th>COMMENT_ID</th>\n",
       "      <th>AUTHOR</th>\n",
       "      <th>DATE</th>\n",
       "      <th>CONTENT</th>\n",
       "      <th>CLASS</th>\n",
       "      <th>song</th>\n",
       "    </tr>\n",
       "  </thead>\n",
       "  <tbody>\n",
       "    <tr>\n",
       "      <th>0</th>\n",
       "      <td>LZQPQhLyRh80UYxNuaDWhIGQYNQ96IuCg-AYWqNPjpU</td>\n",
       "      <td>Julius NM</td>\n",
       "      <td>2013-11-07T06:20:48</td>\n",
       "      <td>Huh, anyway check out this you[tube] channel: ...</td>\n",
       "      <td>1</td>\n",
       "      <td>Psy</td>\n",
       "    </tr>\n",
       "    <tr>\n",
       "      <th>1</th>\n",
       "      <td>LZQPQhLyRh_C2cTtd9MvFRJedxydaVW-2sNg5Diuo4A</td>\n",
       "      <td>adam riyati</td>\n",
       "      <td>2013-11-07T12:37:15</td>\n",
       "      <td>Hey guys check out my new channel and our firs...</td>\n",
       "      <td>1</td>\n",
       "      <td>Psy</td>\n",
       "    </tr>\n",
       "    <tr>\n",
       "      <th>2</th>\n",
       "      <td>LZQPQhLyRh9MSZYnf8djyk0gEF9BHDPYrrK-qCczIY8</td>\n",
       "      <td>Evgeny Murashkin</td>\n",
       "      <td>2013-11-08T17:34:21</td>\n",
       "      <td>just for test I have to say murdev.com</td>\n",
       "      <td>1</td>\n",
       "      <td>Psy</td>\n",
       "    </tr>\n",
       "    <tr>\n",
       "      <th>3</th>\n",
       "      <td>z13jhp0bxqncu512g22wvzkasxmvvzjaz04</td>\n",
       "      <td>ElNino Melendez</td>\n",
       "      <td>2013-11-09T08:28:43</td>\n",
       "      <td>me shaking my sexy ass on my channel enjoy ^_^ ﻿</td>\n",
       "      <td>1</td>\n",
       "      <td>Psy</td>\n",
       "    </tr>\n",
       "    <tr>\n",
       "      <th>4</th>\n",
       "      <td>z13fwbwp1oujthgqj04chlngpvzmtt3r3dw</td>\n",
       "      <td>GsMega</td>\n",
       "      <td>2013-11-10T16:05:38</td>\n",
       "      <td>watch?v=vtaRGgvGtWQ   Check this out .﻿</td>\n",
       "      <td>1</td>\n",
       "      <td>Psy</td>\n",
       "    </tr>\n",
       "  </tbody>\n",
       "</table>\n",
       "</div>"
      ],
      "text/plain": [
       "                                    COMMENT_ID            AUTHOR  \\\n",
       "0  LZQPQhLyRh80UYxNuaDWhIGQYNQ96IuCg-AYWqNPjpU         Julius NM   \n",
       "1  LZQPQhLyRh_C2cTtd9MvFRJedxydaVW-2sNg5Diuo4A       adam riyati   \n",
       "2  LZQPQhLyRh9MSZYnf8djyk0gEF9BHDPYrrK-qCczIY8  Evgeny Murashkin   \n",
       "3          z13jhp0bxqncu512g22wvzkasxmvvzjaz04   ElNino Melendez   \n",
       "4          z13fwbwp1oujthgqj04chlngpvzmtt3r3dw            GsMega   \n",
       "\n",
       "                  DATE                                            CONTENT  \\\n",
       "0  2013-11-07T06:20:48  Huh, anyway check out this you[tube] channel: ...   \n",
       "1  2013-11-07T12:37:15  Hey guys check out my new channel and our firs...   \n",
       "2  2013-11-08T17:34:21             just for test I have to say murdev.com   \n",
       "3  2013-11-09T08:28:43   me shaking my sexy ass on my channel enjoy ^_^ ﻿   \n",
       "4  2013-11-10T16:05:38            watch?v=vtaRGgvGtWQ   Check this out .﻿   \n",
       "\n",
       "   CLASS song  \n",
       "0      1  Psy  \n",
       "1      1  Psy  \n",
       "2      1  Psy  \n",
       "3      1  Psy  \n",
       "4      1  Psy  "
      ]
     },
     "execution_count": 2,
     "metadata": {},
     "output_type": "execute_result"
    }
   ],
   "source": [
    "# import the files\n",
    "\n",
    "path =r'./data/' \n",
    "allSongs = glob.glob(path + \"/*.csv\")\n",
    "frame = pd.DataFrame()\n",
    "list_songs= []\n",
    "\n",
    "for file in allSongs:\n",
    "    frame = pd.read_csv(file)\n",
    "    frame['song']=re.search(r\"-(.*?).csv\", file).group(1)\n",
    "    list_songs.append(frame)\n",
    "    \n",
    "df = pd.concat(list_songs)\n",
    "df.head()\n"
   ]
  },
  {
   "cell_type": "code",
   "execution_count": 3,
   "metadata": {},
   "outputs": [
    {
     "name": "stdout",
     "output_type": "stream",
     "text": [
      "<class 'pandas.core.frame.DataFrame'>\n",
      "Int64Index: 1956 entries, 0 to 369\n",
      "Data columns (total 6 columns):\n",
      "COMMENT_ID    1956 non-null object\n",
      "AUTHOR        1956 non-null object\n",
      "DATE          1711 non-null object\n",
      "CONTENT       1956 non-null object\n",
      "CLASS         1956 non-null int64\n",
      "song          1956 non-null object\n",
      "dtypes: int64(1), object(5)\n",
      "memory usage: 107.0+ KB\n"
     ]
    }
   ],
   "source": [
    "df.info()"
   ]
  },
  {
   "cell_type": "code",
   "execution_count": 4,
   "metadata": {},
   "outputs": [
    {
     "name": "stdout",
     "output_type": "stream",
     "text": [
      "<class 'pandas.core.frame.DataFrame'>\n",
      "Int64Index: 1956 entries, 0 to 369\n",
      "Data columns (total 6 columns):\n",
      "COMMENT_ID    1956 non-null object\n",
      "AUTHOR        1956 non-null object\n",
      "DATE          1956 non-null object\n",
      "CONTENT       1956 non-null object\n",
      "CLASS         1956 non-null int64\n",
      "song          1956 non-null object\n",
      "dtypes: int64(1), object(5)\n",
      "memory usage: 107.0+ KB\n"
     ]
    }
   ],
   "source": [
    "df['DATE']=df['DATE'].fillna(method='ffill')\n",
    "df.info()"
   ]
  },
  {
   "cell_type": "code",
   "execution_count": 5,
   "metadata": {},
   "outputs": [
    {
     "data": {
      "text/html": [
       "<div>\n",
       "<style scoped>\n",
       "    .dataframe tbody tr th:only-of-type {\n",
       "        vertical-align: middle;\n",
       "    }\n",
       "\n",
       "    .dataframe tbody tr th {\n",
       "        vertical-align: top;\n",
       "    }\n",
       "\n",
       "    .dataframe thead th {\n",
       "        text-align: right;\n",
       "    }\n",
       "</style>\n",
       "<table border=\"1\" class=\"dataframe\">\n",
       "  <thead>\n",
       "    <tr style=\"text-align: right;\">\n",
       "      <th></th>\n",
       "      <th>COMMENT_ID</th>\n",
       "      <th>AUTHOR</th>\n",
       "      <th>CONTENT</th>\n",
       "      <th>CLASS</th>\n",
       "      <th>song</th>\n",
       "    </tr>\n",
       "    <tr>\n",
       "      <th>DATE</th>\n",
       "      <th></th>\n",
       "      <th></th>\n",
       "      <th></th>\n",
       "      <th></th>\n",
       "      <th></th>\n",
       "    </tr>\n",
       "  </thead>\n",
       "  <tbody>\n",
       "    <tr>\n",
       "      <th>2013-11-07 06:20:48</th>\n",
       "      <td>LZQPQhLyRh80UYxNuaDWhIGQYNQ96IuCg-AYWqNPjpU</td>\n",
       "      <td>Julius NM</td>\n",
       "      <td>Huh, anyway check out this you[tube] channel: ...</td>\n",
       "      <td>1</td>\n",
       "      <td>Psy</td>\n",
       "    </tr>\n",
       "    <tr>\n",
       "      <th>2013-11-07 12:37:15</th>\n",
       "      <td>LZQPQhLyRh_C2cTtd9MvFRJedxydaVW-2sNg5Diuo4A</td>\n",
       "      <td>adam riyati</td>\n",
       "      <td>Hey guys check out my new channel and our firs...</td>\n",
       "      <td>1</td>\n",
       "      <td>Psy</td>\n",
       "    </tr>\n",
       "    <tr>\n",
       "      <th>2013-11-08 17:34:21</th>\n",
       "      <td>LZQPQhLyRh9MSZYnf8djyk0gEF9BHDPYrrK-qCczIY8</td>\n",
       "      <td>Evgeny Murashkin</td>\n",
       "      <td>just for test I have to say murdev.com</td>\n",
       "      <td>1</td>\n",
       "      <td>Psy</td>\n",
       "    </tr>\n",
       "    <tr>\n",
       "      <th>2013-11-09 08:28:43</th>\n",
       "      <td>z13jhp0bxqncu512g22wvzkasxmvvzjaz04</td>\n",
       "      <td>ElNino Melendez</td>\n",
       "      <td>me shaking my sexy ass on my channel enjoy ^_^ ﻿</td>\n",
       "      <td>1</td>\n",
       "      <td>Psy</td>\n",
       "    </tr>\n",
       "    <tr>\n",
       "      <th>2013-11-10 16:05:38</th>\n",
       "      <td>z13fwbwp1oujthgqj04chlngpvzmtt3r3dw</td>\n",
       "      <td>GsMega</td>\n",
       "      <td>watch?v=vtaRGgvGtWQ   Check this out .﻿</td>\n",
       "      <td>1</td>\n",
       "      <td>Psy</td>\n",
       "    </tr>\n",
       "  </tbody>\n",
       "</table>\n",
       "</div>"
      ],
      "text/plain": [
       "                                                      COMMENT_ID  \\\n",
       "DATE                                                               \n",
       "2013-11-07 06:20:48  LZQPQhLyRh80UYxNuaDWhIGQYNQ96IuCg-AYWqNPjpU   \n",
       "2013-11-07 12:37:15  LZQPQhLyRh_C2cTtd9MvFRJedxydaVW-2sNg5Diuo4A   \n",
       "2013-11-08 17:34:21  LZQPQhLyRh9MSZYnf8djyk0gEF9BHDPYrrK-qCczIY8   \n",
       "2013-11-09 08:28:43          z13jhp0bxqncu512g22wvzkasxmvvzjaz04   \n",
       "2013-11-10 16:05:38          z13fwbwp1oujthgqj04chlngpvzmtt3r3dw   \n",
       "\n",
       "                               AUTHOR  \\\n",
       "DATE                                    \n",
       "2013-11-07 06:20:48         Julius NM   \n",
       "2013-11-07 12:37:15       adam riyati   \n",
       "2013-11-08 17:34:21  Evgeny Murashkin   \n",
       "2013-11-09 08:28:43   ElNino Melendez   \n",
       "2013-11-10 16:05:38            GsMega   \n",
       "\n",
       "                                                               CONTENT  CLASS  \\\n",
       "DATE                                                                            \n",
       "2013-11-07 06:20:48  Huh, anyway check out this you[tube] channel: ...      1   \n",
       "2013-11-07 12:37:15  Hey guys check out my new channel and our firs...      1   \n",
       "2013-11-08 17:34:21             just for test I have to say murdev.com      1   \n",
       "2013-11-09 08:28:43   me shaking my sexy ass on my channel enjoy ^_^ ﻿      1   \n",
       "2013-11-10 16:05:38            watch?v=vtaRGgvGtWQ   Check this out .﻿      1   \n",
       "\n",
       "                    song  \n",
       "DATE                      \n",
       "2013-11-07 06:20:48  Psy  \n",
       "2013-11-07 12:37:15  Psy  \n",
       "2013-11-08 17:34:21  Psy  \n",
       "2013-11-09 08:28:43  Psy  \n",
       "2013-11-10 16:05:38  Psy  "
      ]
     },
     "execution_count": 5,
     "metadata": {},
     "output_type": "execute_result"
    }
   ],
   "source": [
    "df['DATE']=pd.to_datetime(df['DATE'])\n",
    "df=df.set_index('DATE')\n",
    "df.head()"
   ]
  },
  {
   "cell_type": "code",
   "execution_count": 6,
   "metadata": {},
   "outputs": [
    {
     "data": {
      "text/plain": [
       "CLASS\n",
       "0     951\n",
       "1    1005\n",
       "dtype: int64"
      ]
     },
     "execution_count": 6,
     "metadata": {},
     "output_type": "execute_result"
    }
   ],
   "source": [
    "df.groupby('CLASS').size()"
   ]
  },
  {
   "cell_type": "markdown",
   "metadata": {},
   "source": [
    "\n",
    "There are total of 1956 comments in this data for the 5 most popular songs. 951 hams and 1005 spams. There are some missing values in the column of date, since the comments appear sequentially in time, we can use either forward fill or backward fill to estimate the time when that comment is made. The CLASS section is the label: 1 means spam and 0 means ham. \n",
    "\n",
    "\n",
    "## Data Analysis\n",
    "\n",
    "We start the data analysis by asking some basic questions on the dataset:\n",
    "\n",
    "    *is the average length of comment different among ham and spam?\n",
    "    *can we identify some suspicious user account that seems relate to spam?\n",
    "    *are spam comments more likely to have a URL in them?\n",
    "    *does the spam comments have any correlation with time? (if it's fake account, maybe it's setup to send out spam comments periodically.)\n"
   ]
  },
  {
   "cell_type": "code",
   "execution_count": 7,
   "metadata": {},
   "outputs": [],
   "source": [
    "# check the length of the comment.\n",
    "\n",
    "# first expand contractions, so aren't will be are not so it's counted as two words.\n",
    "\n",
    "import contractions\n",
    "\n",
    "def contraction_expand(text):\n",
    "    return contractions.fix(text)\n",
    "\n",
    "df['CONTENT']=df['CONTENT'].apply(contraction_expand)"
   ]
  },
  {
   "cell_type": "code",
   "execution_count": 8,
   "metadata": {},
   "outputs": [
    {
     "data": {
      "text/html": [
       "<div>\n",
       "<style scoped>\n",
       "    .dataframe tbody tr th:only-of-type {\n",
       "        vertical-align: middle;\n",
       "    }\n",
       "\n",
       "    .dataframe tbody tr th {\n",
       "        vertical-align: top;\n",
       "    }\n",
       "\n",
       "    .dataframe thead th {\n",
       "        text-align: right;\n",
       "    }\n",
       "</style>\n",
       "<table border=\"1\" class=\"dataframe\">\n",
       "  <thead>\n",
       "    <tr style=\"text-align: right;\">\n",
       "      <th></th>\n",
       "      <th>mean</th>\n",
       "      <th>std</th>\n",
       "      <th>min</th>\n",
       "      <th>max</th>\n",
       "    </tr>\n",
       "    <tr>\n",
       "      <th>CLASS</th>\n",
       "      <th></th>\n",
       "      <th></th>\n",
       "      <th></th>\n",
       "      <th></th>\n",
       "    </tr>\n",
       "  </thead>\n",
       "  <tbody>\n",
       "    <tr>\n",
       "      <th>0</th>\n",
       "      <td>49.827550</td>\n",
       "      <td>56.526731</td>\n",
       "      <td>2</td>\n",
       "      <td>755</td>\n",
       "    </tr>\n",
       "    <tr>\n",
       "      <th>1</th>\n",
       "      <td>137.769154</td>\n",
       "      <td>159.459172</td>\n",
       "      <td>10</td>\n",
       "      <td>1200</td>\n",
       "    </tr>\n",
       "  </tbody>\n",
       "</table>\n",
       "</div>"
      ],
      "text/plain": [
       "             mean         std  min   max\n",
       "CLASS                                   \n",
       "0       49.827550   56.526731    2   755\n",
       "1      137.769154  159.459172   10  1200"
      ]
     },
     "execution_count": 8,
     "metadata": {},
     "output_type": "execute_result"
    }
   ],
   "source": [
    "\n",
    "#calculate sentence length\n",
    "\n",
    "df['length']=df['CONTENT'].apply(len)\n",
    "\n",
    "df.groupby('CLASS')['length'].agg(['mean','std','min','max'])"
   ]
  },
  {
   "cell_type": "code",
   "execution_count": 9,
   "metadata": {},
   "outputs": [
    {
     "data": {
      "text/plain": [
       "Text(0,0.5,'counts')"
      ]
     },
     "execution_count": 9,
     "metadata": {},
     "output_type": "execute_result"
    },
    {
     "data": {
      "image/png": "[encoded data removed]",
      "text/plain": [
       "<Figure size 720x360 with 2 Axes>"
      ]
     },
     "metadata": {},
     "output_type": "display_data"
    }
   ],
   "source": [
    "f,(ax1,ax2)=plt.subplots(1,2,figsize=(10,5))\n",
    "ax1.hist(df[df['CLASS']==1].length,bins=3)\n",
    "ax1.set_xlabel('spam comments length')\n",
    "ax1.set_ylabel('counts')\n",
    "ax2.hist(df[df['CLASS']==0].length,bins=3)\n",
    "ax2.set_xlabel('ham comments length')\n",
    "ax2.set_ylabel('counts')"
   ]
  },
  {
   "cell_type": "markdown",
   "metadata": {},
   "source": [
    "The average length of spam vs ham comments are different. T- test shows that the mean comment length is significantly different. i.e. there is significant difference in the comment length b/t spam and ham group."
   ]
  },
  {
   "cell_type": "code",
   "execution_count": 10,
   "metadata": {},
   "outputs": [
    {
     "data": {
      "text/plain": [
       "Ttest_indResult(statistic=16.426744907451987, pvalue=4.122869768320902e-55)"
      ]
     },
     "execution_count": 10,
     "metadata": {},
     "output_type": "execute_result"
    }
   ],
   "source": [
    "from scipy import stats\n",
    "\n",
    "spam_len=df[df.CLASS==1].length.values\n",
    "ham_len=df[df.CLASS==0].length.values\n",
    "stats.ttest_ind(spam_len,ham_len,equal_var=False)"
   ]
  },
  {
   "cell_type": "code",
   "execution_count": 11,
   "metadata": {},
   "outputs": [
    {
     "data": {
      "text/plain": [
       "0.14008179959100203"
      ]
     },
     "execution_count": 11,
     "metadata": {},
     "output_type": "execute_result"
    }
   ],
   "source": [
    "## check if there contains URL\n",
    "## some Youtube URL format contains watch? \n",
    "\n",
    "def URL (string):\n",
    "    pattern=r'(http[s]?://*)|(watch?)'\n",
    "    return (bool(re.search(pattern,string)))\n",
    "\n",
    "df['URL']=df['CONTENT'].apply(URL)\n",
    "sum(df['URL'])/len(df['URL'])\n"
   ]
  },
  {
   "cell_type": "code",
   "execution_count": 12,
   "metadata": {},
   "outputs": [
    {
     "data": {
      "text/plain": [
       "CLASS\n",
       "0     40.0\n",
       "1    234.0\n",
       "Name: URL, dtype: float64"
      ]
     },
     "execution_count": 12,
     "metadata": {},
     "output_type": "execute_result"
    }
   ],
   "source": [
    "\n",
    "URL_dist=df.groupby('CLASS')['URL'].agg(sum)\n",
    "URL_dist"
   ]
  },
  {
   "cell_type": "markdown",
   "metadata": {},
   "source": [
    "about 14% of the comments contains URL, and most URLs are found in spam comments."
   ]
  },
  {
   "cell_type": "code",
   "execution_count": 13,
   "metadata": {},
   "outputs": [
    {
     "data": {
      "image/png": "[encoded data removed]",
      "text/plain": [
       "<Figure size 432x288 with 1 Axes>"
      ]
     },
     "metadata": {},
     "output_type": "display_data"
    }
   ],
   "source": [
    "plt.pie(URL_dist/sum(URL_dist), labels=['ham','spam'],autopct='%1.1f%%')\n",
    "plt.title('percentage of spam or ham in comments that contain URL')\n",
    "py.savefig('URL.png')"
   ]
  },
  {
   "cell_type": "code",
   "execution_count": 14,
   "metadata": {},
   "outputs": [
    {
     "data": {
      "text/plain": [
       "Ttest_indResult(statistic=12.852571787339825, pvalue=6.927492725072384e-36)"
      ]
     },
     "execution_count": 14,
     "metadata": {},
     "output_type": "execute_result"
    }
   ],
   "source": [
    "spam_URL=df[df.CLASS==1].URL.values\n",
    "ham_URL=df[df.CLASS==0].URL.values\n",
    "stats.ttest_ind(spam_URL,ham_URL,equal_var=False)"
   ]
  },
  {
   "cell_type": "markdown",
   "metadata": {},
   "source": [
    "the number of URLs in ham group is significantly different from the number of URLs in spam group."
   ]
  },
  {
   "cell_type": "code",
   "execution_count": 15,
   "metadata": {},
   "outputs": [
    {
     "data": {
      "text/plain": [
       "DATE\n",
       "2013-11-07 06:20:48    0.017857\n",
       "2013-11-07 12:37:15    0.119760\n",
       "2013-11-08 17:34:21    0.026316\n",
       "2013-11-09 08:28:43    0.000000\n",
       "2013-11-10 16:05:38    0.153846\n",
       "Name: capital, dtype: float64"
      ]
     },
     "execution_count": 15,
     "metadata": {},
     "output_type": "execute_result"
    }
   ],
   "source": [
    "# calculate percentage of capital letters in a comment\n",
    "\n",
    "def capital_letters(string):\n",
    "    return (len(re.findall('[A-Z]',string))/len(string))\n",
    "\n",
    "df['capital']=df['CONTENT'].apply(capital_letters)\n",
    "df['capital'].head()"
   ]
  },
  {
   "cell_type": "code",
   "execution_count": 16,
   "metadata": {},
   "outputs": [
    {
     "data": {
      "text/html": [
       "<div>\n",
       "<style scoped>\n",
       "    .dataframe tbody tr th:only-of-type {\n",
       "        vertical-align: middle;\n",
       "    }\n",
       "\n",
       "    .dataframe tbody tr th {\n",
       "        vertical-align: top;\n",
       "    }\n",
       "\n",
       "    .dataframe thead th {\n",
       "        text-align: right;\n",
       "    }\n",
       "</style>\n",
       "<table border=\"1\" class=\"dataframe\">\n",
       "  <thead>\n",
       "    <tr style=\"text-align: right;\">\n",
       "      <th></th>\n",
       "      <th>mean</th>\n",
       "      <th>std</th>\n",
       "      <th>min</th>\n",
       "      <th>max</th>\n",
       "    </tr>\n",
       "    <tr>\n",
       "      <th>CLASS</th>\n",
       "      <th></th>\n",
       "      <th></th>\n",
       "      <th></th>\n",
       "      <th></th>\n",
       "    </tr>\n",
       "  </thead>\n",
       "  <tbody>\n",
       "    <tr>\n",
       "      <th>0</th>\n",
       "      <td>0.090289</td>\n",
       "      <td>0.161128</td>\n",
       "      <td>0.0</td>\n",
       "      <td>1.000000</td>\n",
       "    </tr>\n",
       "    <tr>\n",
       "      <th>1</th>\n",
       "      <td>0.108451</td>\n",
       "      <td>0.173301</td>\n",
       "      <td>0.0</td>\n",
       "      <td>0.919355</td>\n",
       "    </tr>\n",
       "  </tbody>\n",
       "</table>\n",
       "</div>"
      ],
      "text/plain": [
       "           mean       std  min       max\n",
       "CLASS                                   \n",
       "0      0.090289  0.161128  0.0  1.000000\n",
       "1      0.108451  0.173301  0.0  0.919355"
      ]
     },
     "execution_count": 16,
     "metadata": {},
     "output_type": "execute_result"
    }
   ],
   "source": [
    "df.groupby('CLASS')['capital'].agg(['mean','std','min','max'])"
   ]
  },
  {
   "cell_type": "code",
   "execution_count": 17,
   "metadata": {},
   "outputs": [
    {
     "data": {
      "text/plain": [
       "Ttest_indResult(statistic=2.4017292882621466, pvalue=0.016410664509908555)"
      ]
     },
     "execution_count": 17,
     "metadata": {},
     "output_type": "execute_result"
    }
   ],
   "source": [
    "spam_C=df[df.CLASS==1].capital.values\n",
    "ham_C=df[df.CLASS==0].capital.values\n",
    "stats.ttest_ind(spam_C,ham_C,equal_var=False)"
   ]
  },
  {
   "cell_type": "markdown",
   "metadata": {},
   "source": [
    "The number of capital letters adjusted to comment length is significantly different in spam and ham group (assume 95% confidence)."
   ]
  },
  {
   "cell_type": "code",
   "execution_count": 18,
   "metadata": {},
   "outputs": [
    {
     "data": {
      "text/plain": [
       "CLASS  AUTHOR               \n",
       "0      5000palo                 7\n",
       "       Marshmallow Kingdom      3\n",
       "       Seth Ryan                3\n",
       "       Alain Bruno              2\n",
       "       Athena Gomez             2\n",
       "       BigBird Larry            2\n",
       "       Brian Brai               2\n",
       "       Chris Madzier            2\n",
       "       D Maw                    2\n",
       "       Eric Gonzalez            2\n",
       "       Juan Martinez            2\n",
       "       LaiLa Steudle            2\n",
       "       LiveLikeLien x           2\n",
       "       Naga Berapi              2\n",
       "       Paul Crowder             2\n",
       "       Pepe The Meme King       2\n",
       "       Sonny Carter             2\n",
       "       The Technology Zoo       2\n",
       "       Warcorpse666             2\n",
       "       janet rangel             2\n",
       "       lol Ippocastano          2\n",
       "       tyler sleetway           2\n",
       "          Berty  Winata         1\n",
       "       Aarjav Parmar            1\n",
       "       Abdinasir Omar           1\n",
       "       Abdou Abdou              1\n",
       "       Abdullah Alawani         1\n",
       "       Abhi Vats                1\n",
       "       Abhishek Kumar Gendah    1\n",
       "       Abigail Gustav           1\n",
       "                               ..\n",
       "1      tchangkou                1\n",
       "       the34104                 1\n",
       "       themagicmangotree        1\n",
       "       themind blasters         1\n",
       "       ultimatecleanmusic       1\n",
       "       vinh nguyen              1\n",
       "       volleyballspikerable     1\n",
       "       xXxPWND 420xXx           1\n",
       "       xiaoying chen            1\n",
       "       yakikukamo FIRELOVER     1\n",
       "       zakaia ziko              1\n",
       "       zeynep saka              1\n",
       "       zonZi                    1\n",
       "       ||GuitarZ||              1\n",
       "       Æle Skittles             1\n",
       "       Александр Федоров        1\n",
       "       Михаил Панкратов         1\n",
       "       Никита Безухов           1\n",
       "       Олег Пась                1\n",
       "       Олег Хижняк              1\n",
       "       алексей алгаев           1\n",
       "       احمد الهوارى             1\n",
       "       ‫הילה שוהם‬‎             1\n",
       "       ‫انس الغامدي‬‎           1\n",
       "       ‫جوجو جوجو‬‎             1\n",
       "       ‫حلم الشباب‬‎            1\n",
       "       ‫غاردينا خالد‬‎          1\n",
       "       이 정훈                     1\n",
       "       조윤기                      1\n",
       "       ＯＧＶＡＤＥＲ                  1\n",
       "Name: AUTHOR, Length: 1793, dtype: int64"
      ]
     },
     "execution_count": 18,
     "metadata": {},
     "output_type": "execute_result"
    }
   ],
   "source": [
    "df.groupby('CLASS')['AUTHOR'].value_counts()"
   ]
  },
  {
   "cell_type": "markdown",
   "metadata": {},
   "source": [
    "We have 1793 unique user names in this dataset. There is a small fraction of users who make multiple comments but all of users who created spams only combment once. It's noticed that some spam accounts are from foreign countries (since their names are not English character). Next we will see how many foreign user names for spam and ham group."
   ]
  },
  {
   "cell_type": "code",
   "execution_count": 19,
   "metadata": {},
   "outputs": [
    {
     "data": {
      "text/plain": [
       "CLASS  user_isEnglish\n",
       "0      True              901\n",
       "       False              50\n",
       "1      True              956\n",
       "       False              49\n",
       "Name: user_isEnglish, dtype: int64"
      ]
     },
     "execution_count": 19,
     "metadata": {},
     "output_type": "execute_result"
    }
   ],
   "source": [
    "# how many of non_english characters in the username\n",
    "\n",
    "def isEnglish(s):\n",
    "    try:\n",
    "        s.encode(encoding='utf-8').decode('ascii')\n",
    "    except UnicodeDecodeError:\n",
    "        return False\n",
    "    else:\n",
    "        return True\n",
    "    \n",
    "df['user_isEnglish']=df['AUTHOR'].apply(isEnglish)\n",
    "df.groupby('CLASS')['user_isEnglish'].value_counts()"
   ]
  },
  {
   "cell_type": "code",
   "execution_count": 20,
   "metadata": {},
   "outputs": [
    {
     "data": {
      "text/plain": [
       "Ttest_indResult(statistic=0.38464960723011715, pvalue=0.7005392401940488)"
      ]
     },
     "execution_count": 20,
     "metadata": {},
     "output_type": "execute_result"
    }
   ],
   "source": [
    "spam_English=df[df.CLASS==1].user_isEnglish.values\n",
    "ham_English=df[df.CLASS==0].user_isEnglish.values\n",
    "stats.ttest_ind(spam_English,ham_English,equal_var=False)"
   ]
  },
  {
   "cell_type": "markdown",
   "metadata": {},
   "source": [
    "The number of foreign user names are not significantly different among ham/spam groups."
   ]
  },
  {
   "cell_type": "code",
   "execution_count": 21,
   "metadata": {},
   "outputs": [
    {
     "data": {
      "text/plain": [
       "DATE\n",
       "2014-11-03 21:38:17.000                              Никита Безухов\n",
       "2014-11-03 22:22:14.000                            Михаил Панкратов\n",
       "2014-11-03 23:29:00.000                                   Олег Пась\n",
       "2014-11-06 22:40:49.000                                 David Boček\n",
       "2014-11-07 12:08:13.000                              Uroš Slemenjak\n",
       "2014-11-07 17:06:48.000                          O sábio das 7 eras\n",
       "2014-11-13 07:59:33.000                           Александр Федоров\n",
       "2014-11-13 21:48:26.000                               Tofik Miedzyń\n",
       "2014-08-16 07:24:50.000                               Cléda Dimitri\n",
       "2014-08-28 03:53:35.000                                  Mai Nguyễn\n",
       "2014-09-10 01:50:55.000                                Nicolás Jara\n",
       "2014-09-10 21:38:12.000                               Mättr Valleni\n",
       "2014-10-03 15:28:05.000                     Mehmet Ertuğrul Tohumcu\n",
       "2014-10-24 09:55:30.000                                احمد الهوارى\n",
       "2014-11-01 02:37:29.000                            Nedim Alp SEÇGEL\n",
       "2014-11-06 19:50:16.000                          Quinho Divulgaçoes\n",
       "2014-11-07 12:16:21.000                              Uroš Slemenjak\n",
       "2015-05-17 14:02:31.882    TelePricol - FUNNY VIDEOS,ЛУЧШИЕ ПРИКОЛЫ\n",
       "2015-05-15 14:58:48.131                     Synchronized™ Nightcore\n",
       "2015-05-13 17:15:41.261             Almohtarif Info | المحترف انفو‎\n",
       "2015-04-28 01:07:30.541                                NerdyQueen〈3\n",
       "2015-04-17 15:50:59.010                                ‫הילה שוהם‬‎\n",
       "2015-03-28 14:03:55.093                                VidéoRiveaux\n",
       "2015-03-22 15:10:43.815                                 CHM Guitar™\n",
       "2015-03-21 18:25:05.665                                         조윤기\n",
       "2015-03-14 16:16:22.607                          Villads Hallundbæk\n",
       "2015-03-03 20:32:54.736                                 Олег Хижняк\n",
       "2015-03-01 11:29:19.167                               Jephone Cañas\n",
       "2015-02-17 04:25:01.940                                ‫جوجو جوجو‬‎\n",
       "2015-02-01 15:51:59.518                              алексей алгаев\n",
       "2015-01-12 06:06:06.398                             ‫غاردينا خالد‬‎\n",
       "2015-01-10 22:00:57.333                              ‫مريم الهندي‬‎\n",
       "2015-01-10 22:00:55.762                              ‫مريم الهندي‬‎\n",
       "2014-12-17 15:37:12.685                                Janja Kmetič\n",
       "2014-09-29 02:54:58.986                                     ＯＧＶＡＤＥＲ\n",
       "2014-08-31 16:39:30.472                       Kikilaronk “Kiki” Loz\n",
       "2014-08-31 12:06:37.835                                   Dávvvid ツ\n",
       "2015-05-28 20:24:21.778                         Martin Gébele MUSIC\n",
       "2015-05-24 09:44:44.694                                Æle Skittles\n",
       "2015-05-23 08:55:42.007                                        이 정훈\n",
       "2015-05-23 04:15:02.178                                 Noise​Break\n",
       "2015-05-21 22:35:35.753                              Greg Fils Aimé\n",
       "2015-05-25 23:42:49.533                               ‫حلم الشباب‬‎\n",
       "2015-05-09 00:09:35.368                              ‫انس الغامدي‬‎\n",
       "2013-09-21 22:11:23.900                                 Noise​Break\n",
       "2013-09-10 23:18:01.455                              Greg Fils Aimé\n",
       "2013-09-06 09:38:13.854                    Krystian Konrad Moreński\n",
       "2013-09-06 09:36:48.076                    Krystian Konrad Moreński\n",
       "2013-08-13 19:18:54.893                                Stanša Matej\n",
       "Name: AUTHOR, dtype: object"
      ]
     },
     "execution_count": 21,
     "metadata": {},
     "output_type": "execute_result"
    }
   ],
   "source": [
    "df[(df['CLASS']==1) & (df['user_isEnglish']==False)]['AUTHOR']"
   ]
  },
  {
   "cell_type": "markdown",
   "metadata": {},
   "source": [
    "There is not much suspecious account we can see by looking at ethenity groups from user names. "
   ]
  },
  {
   "cell_type": "code",
   "execution_count": 22,
   "metadata": {},
   "outputs": [
    {
     "data": {
      "image/png": "[encoded data removed]",
      "text/plain": [
       "<Figure size 432x288 with 1 Axes>"
      ]
     },
     "metadata": {},
     "output_type": "display_data"
    }
   ],
   "source": [
    "\n",
    "# explore the distribution of # of spam/ham among hours and day of week\n",
    "\n",
    "spam=df[df['CLASS']==1]\n",
    "ham=df[df['CLASS']==0]\n",
    "\n",
    "spam_by_weekday=spam.groupby(spam.index.dayofweek).size()\n",
    "ham_by_weekday=ham.groupby(ham.index.dayofweek).size()\n",
    "\n",
    "spam_by_weekday.plot(label='spam')\n",
    "ham_by_weekday.plot(label='ham')\n",
    "plt.xticks(np.arange(7),('Mon','Tue','Wed','Thur','Fri','Sat','Sun'))\n",
    "plt.xlabel('day of the week')\n",
    "plt.ylabel('# of comments')\n",
    "plt.legend(loc='upper right')\n",
    "py.savefig('weekday_trend.png')"
   ]
  },
  {
   "cell_type": "code",
   "execution_count": 23,
   "metadata": {},
   "outputs": [
    {
     "data": {
      "image/png": "[encoded data removed]",
      "text/plain": [
       "<Figure size 432x288 with 1 Axes>"
      ]
     },
     "metadata": {},
     "output_type": "display_data"
    }
   ],
   "source": [
    "spam_by_hour=spam.groupby(spam.index.hour).size()\n",
    "ham_by_hour=ham.groupby(ham.index.hour).size()\n",
    "\n",
    "spam_by_hour.plot(label='spam')\n",
    "ham_by_hour.plot(label='ham')\n",
    "plt.xlabel('hour of the day')\n",
    "plt.ylabel('# of comments')\n",
    "plt.legend(loc='upper right')\n",
    "py.savefig('hourly_trend.png')"
   ]
  },
  {
   "cell_type": "markdown",
   "metadata": {},
   "source": [
    "These two graphs show interesting user behaviour. As we expected, users tend to make more comments in late afternoon throughout the night. We see most spam and ham comments are made b/t 5pm to 1 or 2am. Less comments are made on Sunday and Monday. Probably due to people are busy to start their new week (prep food for kids, run errands etc) and spend less time online. While ham comments are made evenly throughout the rest of week (Tuesday to Saturday), spam comments spike on Thursday and shows some zigzag behavior. There could be a lot of reasons. One explaination could be that spam accounts are programmed to send out spam comments periodically so they are more clustered around certain time."
   ]
  },
  {
   "cell_type": "code",
   "execution_count": 24,
   "metadata": {},
   "outputs": [
    {
     "data": {
      "text/plain": [
       "Ttest_indResult(statistic=3.5704450654604205, pvalue=0.00036503763138973495)"
      ]
     },
     "execution_count": 24,
     "metadata": {},
     "output_type": "execute_result"
    }
   ],
   "source": [
    "df['Thursday']=df.index.dayofweek==3\n",
    "\n",
    "spam_T=df[df.CLASS==1].Thursday.values\n",
    "ham_T=df[df.CLASS==0].Thursday.values\n",
    "stats.ttest_ind(spam_T,ham_T,equal_var=False)"
   ]
  },
  {
   "cell_type": "markdown",
   "metadata": {},
   "source": [
    "Whether a comment is made on Thursday is a significant feature that is different in spam/ham group."
   ]
  },
  {
   "cell_type": "markdown",
   "metadata": {},
   "source": [
    "### Dimensionality reduction analysis\n",
    "\n",
    "It will be interesting to see if there is any patterns in the ham/spam group. In this subsection, we will visualize the dataset in lower dimension using t-SNE. t-SNE a non-linear dimensionality reduction algorithm finds patterns in the data by identifying observed clusters based on similarity of data points with multiple features. It's very computational demanding so we first use TruncatedSVD to reduce the feature dimensions. t-SNE recommends limit input size to 50 features, it's seen that after SVD we are able to retain 63% variance in the original data by limiting features to 50."
   ]
  },
  {
   "cell_type": "code",
   "execution_count": 25,
   "metadata": {},
   "outputs": [
    {
     "name": "stdout",
     "output_type": "stream",
     "text": [
      "[nltk_data] Downloading package stopwords to\n",
      "[nltk_data]     /Users/fengyingdeng/nltk_data...\n",
      "[nltk_data]   Package stopwords is already up-to-date!\n",
      "[nltk_data] Downloading package wordnet to\n",
      "[nltk_data]     /Users/fengyingdeng/nltk_data...\n",
      "[nltk_data]   Package wordnet is already up-to-date!\n"
     ]
    },
    {
     "data": {
      "text/plain": [
       "True"
      ]
     },
     "execution_count": 25,
     "metadata": {},
     "output_type": "execute_result"
    }
   ],
   "source": [
    "import nltk\n",
    "from nltk.tokenize import word_tokenize\n",
    "from nltk.corpus import stopwords\n",
    "from nltk.stem import WordNetLemmatizer, SnowballStemmer\n",
    "nltk.download('stopwords')\n",
    "nltk.download('wordnet')"
   ]
  },
  {
   "cell_type": "code",
   "execution_count": 26,
   "metadata": {},
   "outputs": [],
   "source": [
    "# data cleanning:\n",
    "# Split into tokens.\n",
    "# Convert to lowercase.\n",
    "# Remove punctuation from each token.\n",
    "# Filter out remaining tokens that are not alphabetic.\n",
    "# Filter out tokens that are stop words.\n",
    "\n",
    "\n",
    "def lemmatize_stem(word):\n",
    "    stemmer = SnowballStemmer('english')\n",
    "    return stemmer.stem(WordNetLemmatizer().lemmatize(word))\n",
    "\n",
    "def preprocess (text):\n",
    "    \n",
    "    words=[w for w in word_tokenize(text.lower()) if w.isalpha()]\n",
    "    no_stops=[lemmatize_stem(t) for t in words if t not in stopwords.words('english')]\n",
    "    \n",
    "    return no_stops "
   ]
  },
  {
   "cell_type": "code",
   "execution_count": 27,
   "metadata": {},
   "outputs": [
    {
     "name": "stdout",
     "output_type": "stream",
     "text": [
      "number of features: 234\n"
     ]
    }
   ],
   "source": [
    "\n",
    "from sklearn.feature_extraction.text import TfidfVectorizer\n",
    "from sklearn.decomposition import TruncatedSVD\n",
    "\n",
    "content=df['CONTENT']\n",
    "vectorizer=TfidfVectorizer(tokenizer=preprocess,min_df=10)\n",
    "bag_words=vectorizer.fit_transform(content)\n",
    "print(\"number of features: {}\".format(bag_words.shape[1]))\n",
    "\n"
   ]
  },
  {
   "cell_type": "code",
   "execution_count": 28,
   "metadata": {},
   "outputs": [
    {
     "name": "stdout",
     "output_type": "stream",
     "text": [
      "0.6349016061647162\n"
     ]
    },
    {
     "data": {
      "image/png": "[encoded data removed]",
      "text/plain": [
       "<Figure size 432x288 with 1 Axes>"
      ]
     },
     "metadata": {},
     "output_type": "display_data"
    }
   ],
   "source": [
    "svd=TruncatedSVD(n_components=50,random_state=10)\n",
    "X_transform=svd.fit_transform(bag_words)\n",
    "\n",
    "CDF=np.cumsum(svd.explained_variance_ratio_)\n",
    "plt.plot(CDF)\n",
    "print(svd.explained_variance_ratio_.sum())"
   ]
  },
  {
   "cell_type": "code",
   "execution_count": 29,
   "metadata": {},
   "outputs": [],
   "source": [
    "from sklearn.manifold import TSNE\n",
    "\n",
    "model=TSNE(random_state=10)\n",
    "transform=model.fit_transform(X_transform)\n"
   ]
  },
  {
   "cell_type": "code",
   "execution_count": 30,
   "metadata": {},
   "outputs": [
    {
     "data": {
      "text/plain": [
       "Text(0,0.5,'component_2')"
      ]
     },
     "execution_count": 30,
     "metadata": {},
     "output_type": "execute_result"
    },
    {
     "data": {
      "image/png": "[encoded data removed]",
      "text/plain": [
       "<Figure size 432x288 with 2 Axes>"
      ]
     },
     "metadata": {},
     "output_type": "display_data"
    }
   ],
   "source": [
    "df_tsne=pd.DataFrame()\n",
    "df_tsne['x']=transform[:,0]\n",
    "df_tsne['y']=transform[:,1]\n",
    "df_tsne['class']=df['CLASS'].values\n",
    "plt.scatter(df_tsne.x,df_tsne.y,c=df_tsne['class'],cmap='jet',alpha=0.45)\n",
    "plt.colorbar(label='spam 1/ ham 0', ticks=range(2))\n",
    "plt.xlabel('component_1')\n",
    "plt.ylabel('component_2')"
   ]
  },
  {
   "cell_type": "markdown",
   "metadata": {},
   "source": [
    "The distance on the above figure shows how closely two docs are semantically. As we seen ham and spam comments are very similiar semantically."
   ]
  },
  {
   "cell_type": "code",
   "execution_count": 31,
   "metadata": {},
   "outputs": [
    {
     "data": {
      "text/plain": [
       "Text(0.5,1,'ham')"
      ]
     },
     "execution_count": 31,
     "metadata": {},
     "output_type": "execute_result"
    },
    {
     "data": {
      "image/png": "[encoded data removed]",
      "text/plain": [
       "<Figure size 1080x360 with 2 Axes>"
      ]
     },
     "metadata": {},
     "output_type": "display_data"
    }
   ],
   "source": [
    "fig,(ax1,ax2) =plt.subplots(1,2,figsize=(15,5))\n",
    "ax1.scatter(df_tsne[df_tsne['class']==1].x,df_tsne[df_tsne['class']==1].y,c='b')\n",
    "ax1.set_title('spam')\n",
    "ax2.scatter(df_tsne[df_tsne['class']==0].x,df_tsne[df_tsne['class']==0].y,c='y')\n",
    "ax2.set_title('ham')"
   ]
  },
  {
   "cell_type": "markdown",
   "metadata": {},
   "source": [
    "\n",
    "### Next interesting quesition is: what are most important words in spam and ham group:"
   ]
  },
  {
   "cell_type": "code",
   "execution_count": 32,
   "metadata": {},
   "outputs": [
    {
     "name": "stdout",
     "output_type": "stream",
     "text": [
      "['subscrib', 'video', 'http', 'amp', 'like', 'br', 'check', 'pleas', 'youtub', 'channel']\n"
     ]
    }
   ],
   "source": [
    "from sklearn.feature_extraction.text import CountVectorizer\n",
    "vectorizer=CountVectorizer(tokenizer=preprocess, min_df=10)\n",
    "bag_words=vectorizer.fit_transform(content).toarray()\n",
    "\n",
    "spam_bag_words=bag_words[df.CLASS==1]\n",
    "spam_words=spam_bag_words.sum(axis=0)\n",
    "idx = np.argsort(spam_words)[-10:]\n",
    "top_10 = [word for word, num in vectorizer.vocabulary_.items() if num in idx]\n",
    "print(top_10)"
   ]
  },
  {
   "cell_type": "code",
   "execution_count": 33,
   "metadata": {},
   "outputs": [
    {
     "name": "stdout",
     "output_type": "stream",
     "text": [
      "['love', 'perri', 'billion', 'video', 'song', 'like', 'br', 'best', 'kati', 'view']\n"
     ]
    }
   ],
   "source": [
    "\n",
    "ham_bag_words= bag_words[df.CLASS==0]\n",
    "ham_words=ham_bag_words.sum(axis=0)\n",
    "idx = np.argsort(ham_words)[-10:]\n",
    "top_10 = [word for word, num in vectorizer.vocabulary_.items() if num in idx]\n",
    "print(top_10)"
   ]
  },
  {
   "cell_type": "markdown",
   "metadata": {},
   "source": [
    "The most freq words in spam group relates to self-promoting videos with keywords like http, check and subscribe. The most freq words in ham group however are more relate to the song, some keywords relate to song's artist like kati perri. Some keywords describe the general feelings towards the song such as best, like, love."
   ]
  },
  {
   "cell_type": "code",
   "execution_count": 34,
   "metadata": {},
   "outputs": [
    {
     "name": "stderr",
     "output_type": "stream",
     "text": [
      "/anaconda3/lib/python3.5/site-packages/sklearn/decomposition/online_lda.py:536: DeprecationWarning: The default value for 'learning_method' will be changed from 'online' to 'batch' in the release 0.20. This warning was introduced in 0.18.\n",
      "  DeprecationWarning)\n"
     ]
    },
    {
     "name": "stdout",
     "output_type": "stream",
     "text": [
      "Topics found via LDA:\n",
      "\n",
      "Topic #0:\n",
      "check video youtub subscrib channel pleas guy go watch thank\n",
      "\n",
      "Topic #1:\n",
      "make new money work share http month home visit websit\n",
      "\n",
      "Topic #2:\n",
      "br quot remix song rihanna check like subscrib hit million\n",
      "\n",
      "Topic #3:\n",
      "http amp gt like pleas lt kati free awesom song\n",
      "\n",
      "Topic #4:\n",
      "music pleas like thank comment u would hey check get\n"
     ]
    }
   ],
   "source": [
    "# LDA analysis\n",
    "\n",
    "from sklearn.decomposition import LatentDirichletAllocation as LDA\n",
    " \n",
    "def print_topics(model, vectorizer, n_top_words):\n",
    "    words = vectorizer.get_feature_names()\n",
    "    for topic_idx, topic in enumerate(model.components_):\n",
    "        print(\"\\nTopic #%d:\" % topic_idx)\n",
    "        print(\" \".join([words[i]\n",
    "                        for i in topic.argsort()[:-n_top_words - 1:-1]]))\n",
    "        \n",
    "number_topics = 5\n",
    "number_words = 10\n",
    "\n",
    "lda = LDA(n_components=number_topics)\n",
    "lda.fit(spam_bag_words)\n",
    "\n",
    "# Print the topics found by the LDA model\n",
    "print(\"Topics found via LDA:\")\n",
    "print_topics(lda, vectorizer, number_words)\n"
   ]
  },
  {
   "cell_type": "code",
   "execution_count": 35,
   "metadata": {},
   "outputs": [
    {
     "name": "stderr",
     "output_type": "stream",
     "text": [
      "/anaconda3/lib/python3.5/site-packages/sklearn/decomposition/online_lda.py:536: DeprecationWarning: The default value for 'learning_method' will be changed from 'online' to 'batch' in the release 0.20. This warning was introduced in 0.18.\n",
      "  DeprecationWarning)\n"
     ]
    },
    {
     "name": "stdout",
     "output_type": "stream",
     "text": [
      "Topics found via LDA:\n",
      "\n",
      "Topic #0:\n",
      "kati song perri music still lt eminem fuck like listen\n",
      "\n",
      "Topic #1:\n",
      "view video like billion song get watch peopl awesom old\n",
      "\n",
      "Topic #2:\n",
      "year shuffl time style psi like gangnam would lol back\n",
      "\n",
      "Topic #3:\n",
      "good wow go girl megan fox first comment part shit\n",
      "\n",
      "Topic #4:\n",
      "love song br shakira best beauti waka make much nice\n"
     ]
    }
   ],
   "source": [
    "\n",
    "lda = LDA(n_components=number_topics)\n",
    "lda.fit(ham_bag_words)\n",
    "\n",
    "# Print the topics found by the LDA model\n",
    "print(\"Topics found via LDA:\")\n",
    "print_topics(lda, vectorizer, number_words)"
   ]
  },
  {
   "cell_type": "markdown",
   "metadata": {},
   "source": [
    "## Machine learning\n",
    "\n",
    "This section we explore different machine learning models for this classification problem.\n",
    "\n",
    "1. Naive Bayes\n",
    "2. Random Forest\n",
    "3. Logistic Regression\n",
    "4. SVM\n"
   ]
  },
  {
   "cell_type": "code",
   "execution_count": 36,
   "metadata": {},
   "outputs": [],
   "source": [
    "# helper function to print out misclassification comments:\n",
    "\n",
    "def miss_classification_print (pred_labels, test_labels, df):\n",
    "    \"\"\"this function is to print out some misclassificaiton examples\"\"\"\n",
    "    \"\"\"you need to provide: predict labels, the real labels, and the dataframe of the data\"\"\"\n",
    "    \n",
    "    ham=[]\n",
    "    spam=[]\n",
    "    for i in np.arange(df.shape[0]):\n",
    "        if pred_labels[i] != test_labels[i]:\n",
    "            if pred_labels [i] == 1:\n",
    "                ham.append(df.iloc[i].CONTENT)\n",
    "            if pred_labels [i]== 0:\n",
    "                spam.append(df.iloc[i].CONTENT)\n",
    "    print('ham messages that are misclassified as spam \\n')\n",
    "    for i in ham:\n",
    "        print(i)\n",
    "    print('\\n')\n",
    "    print('\\n')\n",
    "    print('spam messages that are misclassified as ham \\n')\n",
    "    for i in spam:\n",
    "        print(i)\n"
   ]
  },
  {
   "cell_type": "code",
   "execution_count": 37,
   "metadata": {},
   "outputs": [
    {
     "name": "stdout",
     "output_type": "stream",
     "text": [
      "number of words before preprocessing:  863\n",
      "best alpha:  {'alpha': 0.1}\n",
      "best CV accuracy:  0.9202453987730062\n",
      "the confusion matrix: \n",
      " [[218  34]\n",
      " [ 12 225]]\n",
      "the accuracy score is  0.9059304703476483\n"
     ]
    }
   ],
   "source": [
    "# let's try naive bayes as baseline.\n",
    "\n",
    "from sklearn.model_selection import train_test_split\n",
    "from sklearn.naive_bayes import MultinomialNB\n",
    "from sklearn.model_selection import GridSearchCV\n",
    "from sklearn.metrics import *\n",
    "\n",
    "X=df.drop(['CLASS'],axis=1)\n",
    "y=df['CLASS']\n",
    "X_train,X_test,y_train,y_test=train_test_split(X,y,random_state=10)\n",
    "\n",
    "# create bag of words\n",
    "vec=TfidfVectorizer(min_df=3)\n",
    "tfidf=vec.fit_transform(X_train['CONTENT'])\n",
    "print(\"number of words before preprocessing: \", len(vec.get_feature_names()))\n",
    "\n",
    "# define estimator\n",
    "clf=MultinomialNB()\n",
    "\n",
    "# define hypoparameters to tune\n",
    "params_nb={'alpha': [0.00001,0.001, 0.1, 1, 10]}\n",
    "\n",
    "grid_nb=GridSearchCV(estimator=clf, param_grid=params_nb,scoring='accuracy',cv=10,n_jobs=-1)\n",
    "grid_nb.fit(tfidf,y_train)\n",
    "model_nb=grid_nb.best_estimator_\n",
    "print(\"best alpha: \", grid_nb.best_params_)\n",
    "print(\"best CV accuracy: \",grid_nb.best_score_)\n",
    "\n",
    "X_test_tfidf=vec.transform(X_test['CONTENT'])\n",
    "print(\"the confusion matrix: \\n\", confusion_matrix(y_test,model_nb.predict(X_test_tfidf)))\n",
    "print(\"the accuracy score is \", accuracy_score(y_test,model_nb.predict(X_test_tfidf)))\n"
   ]
  },
  {
   "cell_type": "code",
   "execution_count": 38,
   "metadata": {},
   "outputs": [
    {
     "name": "stdout",
     "output_type": "stream",
     "text": [
      "ham messages that are misclassified as spam \n",
      "\n",
      "This song is about Rape and Cheating     <br /><br /><br /><br /><br /><br /><br /><br /><br /><br />Basically.....﻿\n",
      ":3﻿\n",
      "this song always gives me chills! :)\n",
      "I want to see Shakira, not football :)\n",
      "Looooved ﻿\n",
      "cooooooooooooolllllllllll﻿\n",
      "#2012bitches﻿\n",
      "ILOVETHISSONG﻿\n",
      "This song means so much to me thank you  soooooooooooooooooooooooooooooooooooooooo much:-) Xxx﻿\n",
      "Awsome<br />﻿\n",
      "If you are a person that loves real music you should listen to &quot;Cruz Supat&quot;<br />He is awesome as fuck!!! Just as eminem used to be.﻿\n",
      ":)\n",
      "I found out this song now﻿\n",
      ":D﻿\n",
      "Gooooood﻿\n",
      "Loves it﻿\n",
      "\"....because I AM a champion...and you are going to hear me roar!\"   Today I AM my own champion  Today I AM a champion for the Creator  Today I AM doing positive in my world Today I AM blessing and healing all around me Today I AM successful and  creating success  ﻿\n",
      "On 0:02 you can see the camera man on his glasses....﻿\n",
      "selfie alert﻿\n",
      "What&#39;s with the guys jacket? 1 sleeve and a sleeveless arm﻿\n",
      "OOOOO SHUFFLLLLLLLLLLLLLLLLLLLLLLINNNNN﻿\n",
      "like me﻿\n",
      "go here to check the views :3﻿\n",
      "just :( superr!!!﻿\n",
      "Hii youtube﻿\n",
      "blue eyes, cannot be trusted.  uranus bless america.﻿\n",
      "Ouf Ouf OUFFFFFFFFFFFFFFFFFF!!!!!!!! :)\n",
      "GANGMAN STY- *D-D-D-D-D-D--DROP THE BASS!!*﻿\n",
      "<a href=\"http://www.youtube.com/watch?v=KQ6zr6kCPj8&amp;t=2m19s\">2:19</a> best part﻿\n",
      "My friend Sam loves this song😊😊😊😊😊😊😊😊😊😊😊😊😊😊😊😊😊😊😊😊😊😊😊😊😊😊😊😊😊😊😊😊😊😊😊😊😊😊😊😊😊😊😊😊😊😊﻿\n",
      "Boooobs﻿\n",
      "First they were fighting... Then they were making out...﻿\n",
      "I always end up coming back to this song<br />﻿\n",
      "Thumbs up if you&#39;re watching in 2015﻿\n",
      "\n",
      "\n",
      "\n",
      "\n",
      "spam messages that are misclassified as ham \n",
      "\n",
      "Check me out! I am kyle. I rap so yeah ﻿\n",
      "Believe that Jesus Christ is your savior for all your sins. If you truly believe in Jesus Christ to be your savior for all your sins then you will go to Heaven. If you believe in Jesus Christ then you are saved and you are in salvation and you have gained God’s righteousness. It matters not how much you have sinned in the past, in the present and especially in the future. Believe that Jesus Christ is your savior and you will go to Heaven forever and that is the whole truth. Spread the truth. \n",
      "Share this video.. This song can beat PSY - Gangnam Style!\n",
      "I&#39;m subscribing to you just because your comment was that great.\n",
      "My three bigger secrets are: I do not think I am good enough for me skinny  size. I am bisexual and I sweat really freaking bad when I am nervous. -  check out Secret by Austin Mahone's NEW Single!﻿\n",
      "I love katy fashions tiger, care to visit my blog sinar jahitan  I also have the tiger collections tqvm﻿\n",
      "I am so awesome and smart!!! Sucscribe to me!﻿\n",
      "3m subscribers but look at the views its 700 million wtf :P﻿\n",
      "+447935454150 lovely girl talk to me xxx﻿\n",
      "Check out this video on YouTube:it is a old track but it still bad﻿\n",
      "I personally have never been in a abusive relationship. I probably never will. I don&#39;t hit women. Mom has my dad used to hit my mom before he left. I can relate I&#39;m writing about one at the moment subscribe to hear it. EVERY fan counts.﻿\n",
      "KATY PERRY, I AM THE \"DÉCIO CABELO\", \"DECIO HAIR\". I AM 60 YEARS OF AGE. I  DON\"T HAVE FAMILY. I\"M SINGLE. ALONE. HOMELESS. I WAS AN ALCOHOLIC: 15 AT  THE AGE OF 46. I AM AN INVISIBLE COMPOSER. MY DREAM IS TO RECORD MY SONGS.  COULD YOU HELP ME? PLEASE! PLEASE! I TRUST THAT THE YOU WILL GIVE ME A  CHANCE. I HAVE 109 VIDEOS IN THE YOUTUBE: deciocabelo canal. KATY PERRY, I  WAS BORN IN OCTOBER 25, TOO. THANK YOU VERY MUCH!!! DECIO HAIR.﻿\n"
     ]
    }
   ],
   "source": [
    "miss_classification_print(model_nb.predict(X_test_tfidf),y_test,X_test)"
   ]
  },
  {
   "cell_type": "markdown",
   "metadata": {},
   "source": [
    "from the confusion matrix, we can see 40 comments are miss-classified as spam where they are ham. We don't want this situation to happen. Actually we would rather the model to have more false negative than false positive.\n",
    "\n",
    "No preprocessing is performed since I tested that preprocessing steps such as stop words removal or stemming hurt the performance. The accuracy score using pre-processed data is 0.83.\n",
    "\n",
    "(I tested preprocessing steps: stop word removal, stem, min_df, punctuation removal, stem individually and found that both stem and punctuation removal hurt the performance of models, including naive bayes, random forest, and logistic regression)\n",
    "\n",
    "Reference: Spam Filtering: How the dimensionality reduction affects the accuracy of the naive bayes classification. This paper explores why feature dimension reduction hurts the performance"
   ]
  },
  {
   "cell_type": "code",
   "execution_count": 39,
   "metadata": {},
   "outputs": [
    {
     "name": "stdout",
     "output_type": "stream",
     "text": [
      "best alpha:  {'n_estimators': 100}\n",
      "best CV accuracy:  0.956373551465576\n",
      "the confusion matrix on test data: \n",
      " [[244   8]\n",
      " [ 16 221]]\n",
      "the accuracy score on test data is  0.950920245398773\n"
     ]
    }
   ],
   "source": [
    "# random forest\n",
    "\n",
    "from sklearn.ensemble import RandomForestClassifier\n",
    "\n",
    "rf=RandomForestClassifier(random_state=10)\n",
    "\n",
    "params_rf={'n_estimators': [100, 200, 300, 400, 500]}\n",
    "\n",
    "grid_rf=GridSearchCV(estimator=rf, param_grid=params_rf,scoring='accuracy',cv=5,n_jobs=-1)\n",
    "grid_rf.fit(tfidf,y_train)\n",
    "model_rf=grid_rf.best_estimator_\n",
    "print(\"best alpha: \", grid_rf.best_params_)\n",
    "print(\"best CV accuracy: \",grid_rf.best_score_)\n",
    "\n",
    "print(\"the confusion matrix on test data: \\n\", confusion_matrix(y_test,model_rf.predict(X_test_tfidf)))\n",
    "print(\"the accuracy score on test data is \", accuracy_score(y_test,model_rf.predict(X_test_tfidf)))"
   ]
  },
  {
   "cell_type": "code",
   "execution_count": 40,
   "metadata": {},
   "outputs": [
    {
     "name": "stdout",
     "output_type": "stream",
     "text": [
      "ham messages that are misclassified as spam \n",
      "\n",
      "C'mon Katy you are so close to 14,000,000 subscribers...come up with  another hit like this and it will happen﻿\n",
      "If you are a person that loves real music you should listen to &quot;Cruz Supat&quot;<br />He is awesome as fuck!!! Just as eminem used to be.﻿\n",
      "The little PSY is suffering Brain Tumor and only has 6 more months to live.  Please pray to him and the best lucks.﻿\n",
      "\"....because I AM a champion...and you are going to hear me roar!\"   Today I AM my own champion  Today I AM a champion for the Creator  Today I AM doing positive in my world Today I AM blessing and healing all around me Today I AM successful and  creating success  ﻿\n",
      "My honest opinion. it is a very mediocre song. Nothing unique or special  about her music, lyrics or voice. Nothing memorable like Billie Jean or  Beat It. Before her millions of fans reply with hate comments, i know this  is a democracy and people are free to see what they want. But then do not I  have the right to express my opinion? Please do not reply with dumb comments  lie \"if you do not like it do not watch it\". I just came here to see what is  the buzz about(661 million views??) and did not like what i saw. OK?﻿\n",
      "I do not even watch it anymore i just come here to check on 2 Billion or not﻿\n",
      "<a href=\"http://www.youtube.com/watch?v=KQ6zr6kCPj8&amp;t=2m19s\">2:19</a> best part﻿\n",
      "katy perry does remind me of a tiger,like as if its her spirit animal :3 &lt;3﻿\n",
      "\n",
      "\n",
      "\n",
      "\n",
      "spam messages that are misclassified as ham \n",
      "\n",
      "░░░░░░░/\\░░░░░▄▐<br />░░░░░░/     \\░░░▄██▄<br />░░░░░/  (o)   \\░░░░░▀█▄<br />░░░░/             \\░░░░░░▀█▄<br />░░░/__   \\   ░▄▄▄▄▄▀▀<br />░░░░▄▄▄██▀▀▀▀<br />░░░█▀▄▄▄█░▀▀       YOU HAVE BEEN SPOOKED BY THE SPOOKINATI<br />░░░▌░▄▄▄▐▌▀▀▀<br />▄░▐░░░▄▄░█░▀▀    SHARE THIS TO 666 PEOPLE TO BE UNSPOOKED <br />▀█▌░░░▄░▀█▀░▀ <br />░░░░░░░▄▄▐▌▄▄<br />░░░░░░░▀███▀█░▄<br />░░░░░░▐▌▀▄▀▄▀▐▄<br />░░░░░░▐▀░░░░░░▐▌<br />░░░░░░█░░░░░░░░█<br />░░░░░▐▌░░░░░░░░░█<br />░░░░░█░░░░░░░░░░▐▌﻿\n",
      "  Haha , Miley Cyrus has done it once again  Today someone leeched a porno video with her on a celeb site   I believe the website link is : miley-celeb-news.co.uk in case you want to view it.... \n",
      "Share this video.. This song can beat PSY - Gangnam Style!\n",
      "I&#39;m subscribing to you just because your comment was that great.\n",
      "HOW DO YOU PUT A PICTURE FOR YOUR IMAGE THINGIE?!?!﻿\n",
      "I love katy fashions tiger, care to visit my blog sinar jahitan  I also have the tiger collections tqvm﻿\n",
      "Message :   GTA V  $20  FIFA 14 $15  PS4  $200  Galaxy S4 mini $250  Ipad 4   $200  visit the site hh.nl\n",
      "I am so awesome and smart!!! Sucscribe to me!﻿\n",
      "I subscribed it<br />﻿\n",
      "3m subscribers but look at the views its 700 million wtf :P﻿\n",
      "I&#39;m A SUBSCRIBER﻿\n",
      " I really can&#39;t comprehend Miley Cyrus , she actually is a high profile and she tapes herself banging Today a video was leeched with her sucking and fucking The video has been posted at the celebrity website under :  miley-celeb-news.co.uk \n",
      "Come and watch my video it is called the odowd crowd zombie movie part 1 ﻿\n",
      "Get free gift cards and pay pal money!﻿\n",
      "SEE SOME MORE SONG OPEN GOOGLE AND TYPE Shakira GuruOfMovie﻿\n",
      "PLEASSSSSSSSSSSSSSSS SUBSCRIBEEEEEEEEEE MY CHANNNNNNELLL PLZZ﻿\n"
     ]
    }
   ],
   "source": [
    "miss_classification_print(model_rf.predict(X_test_tfidf),y_test,X_test)"
   ]
  },
  {
   "cell_type": "code",
   "execution_count": 41,
   "metadata": {},
   "outputs": [
    {
     "name": "stdout",
     "output_type": "stream",
     "text": [
      "best alpha:  {'C': 50}\n",
      "best CV accuracy:  0.9461486025903204\n",
      "the confusion matrix on test data: \n",
      " [[241  11]\n",
      " [ 13 224]]\n",
      "the accuracy score on test data is  0.950920245398773\n"
     ]
    }
   ],
   "source": [
    "# logistic regression\n",
    "# Grid search to tune hypoparameters\n",
    "\n",
    "from sklearn.linear_model import LogisticRegression\n",
    "\n",
    "lg=LogisticRegression(random_state=10)\n",
    "\n",
    "params_lg={'C': [0.1, 1, 10, 50, 100]}\n",
    "\n",
    "grid_lg=GridSearchCV(estimator=lg, param_grid=params_lg,scoring='accuracy',cv=5,n_jobs=-1)\n",
    "grid_lg.fit(tfidf,y_train)\n",
    "model_lg=grid_lg.best_estimator_\n",
    "print(\"best alpha: \", grid_lg.best_params_)\n",
    "print(\"best CV accuracy: \",grid_lg.best_score_)\n",
    "\n",
    "print(\"the confusion matrix on test data: \\n\", confusion_matrix(y_test,model_lg.predict(X_test_tfidf)))\n",
    "print(\"the accuracy score on test data is \", accuracy_score(y_test,model_lg.predict(X_test_tfidf)))"
   ]
  },
  {
   "cell_type": "code",
   "execution_count": 42,
   "metadata": {},
   "outputs": [
    {
     "name": "stdout",
     "output_type": "stream",
     "text": [
      "ham messages that are misclassified as spam \n",
      "\n",
      "C'mon Katy you are so close to 14,000,000 subscribers...come up with  another hit like this and it will happen﻿\n",
      "If you are a person that loves real music you should listen to &quot;Cruz Supat&quot;<br />He is awesome as fuck!!! Just as eminem used to be.﻿\n",
      "I remember when everyone was obsessed with Gangnam Style 😗﻿\n",
      "I found out this song now﻿\n",
      "Her voice sounds weird and plus she&#39;s cute for a blonde﻿\n",
      "Loves it﻿\n",
      "On 0:02 you can see the camera man on his glasses....﻿\n",
      "I do not even watch it anymore i just come here to check on 2 Billion or not﻿\n",
      "<a href=\"http://www.youtube.com/watch?v=KQ6zr6kCPj8&amp;t=2m19s\">2:19</a> best part﻿\n",
      "Thumbs up if you&#39;re watching in 2015﻿\n",
      "Why do I feel like as if Gangnam style copied their song from this?!﻿\n",
      "\n",
      "\n",
      "\n",
      "\n",
      "spam messages that are misclassified as ham \n",
      "\n",
      "  Haha , Miley Cyrus has done it once again  Today someone leeched a porno video with her on a celeb site   I believe the website link is : miley-celeb-news.co.uk in case you want to view it.... \n",
      "EVERYBODY PLEASE VOTE KATY AT EMA 2014 !!!!!  Best song  Best female Best pop Best live Best look  Best video  PLEASE VOTE KATY !!!!! PLEASE PLEASE PLEASE !!!!! VOTE VOTE VOTE !!!!! KATY KATY KATY !!!!!﻿\n",
      "I love katy fashions tiger, care to visit my blog sinar jahitan  I also have the tiger collections tqvm﻿\n",
      "Message :   GTA V  $20  FIFA 14 $15  PS4  $200  Galaxy S4 mini $250  Ipad 4   $200  visit the site hh.nl\n",
      "How To Make A Lot Of Money Fast\n",
      "I am so awesome and smart!!! Sucscribe to me!﻿\n",
      "I&#39;m A SUBSCRIBER﻿\n",
      " I really can&#39;t comprehend Miley Cyrus , she actually is a high profile and she tapes herself banging Today a video was leeched with her sucking and fucking The video has been posted at the celebrity website under :  miley-celeb-news.co.uk \n",
      "Come and watch my video it is called the odowd crowd zombie movie part 1 ﻿\n",
      "Get free gift cards and pay pal money!﻿\n",
      "SEE SOME MORE SONG OPEN GOOGLE AND TYPE Shakira GuruOfMovie﻿\n",
      "+447935454150 lovely girl talk to me xxx﻿\n",
      "PLEASSSSSSSSSSSSSSSS SUBSCRIBEEEEEEEEEE MY CHANNNNNNELLL PLZZ﻿\n"
     ]
    }
   ],
   "source": [
    "miss_classification_print(model_lg.predict(X_test_tfidf),y_test,X_test)"
   ]
  },
  {
   "cell_type": "code",
   "execution_count": 43,
   "metadata": {},
   "outputs": [
    {
     "name": "stdout",
     "output_type": "stream",
     "text": [
      "best alpha:  {'kernel': 'linear', 'C': 1}\n",
      "best CV accuracy:  0.950920245398773\n",
      "the confusion matrix on test data: \n",
      " [[246   6]\n",
      " [ 12 225]]\n",
      "the accuracy score on test data is  0.9631901840490797\n"
     ]
    }
   ],
   "source": [
    "# bag of words will create a lot of features and we know that SVM works good with high dimensions. \n",
    "\n",
    "from sklearn.svm import SVC\n",
    "\n",
    "svc=SVC()\n",
    "\n",
    "params_svc={'C': [0.001, 0.1, 1, 10],\n",
    "            'kernel':['linear', 'poly', 'rbf']}\n",
    "\n",
    "grid_svc=GridSearchCV(estimator=svc, param_grid=params_svc,scoring='accuracy',cv=5,n_jobs=-1)\n",
    "grid_svc.fit(tfidf,y_train)\n",
    "model_svc=grid_svc.best_estimator_\n",
    "print(\"best alpha: \", grid_svc.best_params_)\n",
    "print(\"best CV accuracy: \",grid_svc.best_score_)\n",
    "\n",
    "print(\"the confusion matrix on test data: \\n\", confusion_matrix(y_test,model_svc.predict(X_test_tfidf)))\n",
    "print(\"the accuracy score on test data is \", accuracy_score(y_test,model_svc.predict(X_test_tfidf)))"
   ]
  },
  {
   "cell_type": "code",
   "execution_count": 44,
   "metadata": {},
   "outputs": [
    {
     "name": "stdout",
     "output_type": "stream",
     "text": [
      "ham messages that are misclassified as spam \n",
      "\n",
      "C'mon Katy you are so close to 14,000,000 subscribers...come up with  another hit like this and it will happen﻿\n",
      "If you are a person that loves real music you should listen to &quot;Cruz Supat&quot;<br />He is awesome as fuck!!! Just as eminem used to be.﻿\n",
      "I remember when everyone was obsessed with Gangnam Style 😗﻿\n",
      "I found out this song now﻿\n",
      "Her voice sounds weird and plus she&#39;s cute for a blonde﻿\n",
      "Loves it﻿\n",
      "On 0:02 you can see the camera man on his glasses....﻿\n",
      "I do not even watch it anymore i just come here to check on 2 Billion or not﻿\n",
      "<a href=\"http://www.youtube.com/watch?v=KQ6zr6kCPj8&amp;t=2m19s\">2:19</a> best part﻿\n",
      "Thumbs up if you&#39;re watching in 2015﻿\n",
      "Why do I feel like as if Gangnam style copied their song from this?!﻿\n",
      "\n",
      "\n",
      "\n",
      "\n",
      "spam messages that are misclassified as ham \n",
      "\n",
      "  Haha , Miley Cyrus has done it once again  Today someone leeched a porno video with her on a celeb site   I believe the website link is : miley-celeb-news.co.uk in case you want to view it.... \n",
      "EVERYBODY PLEASE VOTE KATY AT EMA 2014 !!!!!  Best song  Best female Best pop Best live Best look  Best video  PLEASE VOTE KATY !!!!! PLEASE PLEASE PLEASE !!!!! VOTE VOTE VOTE !!!!! KATY KATY KATY !!!!!﻿\n",
      "I love katy fashions tiger, care to visit my blog sinar jahitan  I also have the tiger collections tqvm﻿\n",
      "Message :   GTA V  $20  FIFA 14 $15  PS4  $200  Galaxy S4 mini $250  Ipad 4   $200  visit the site hh.nl\n",
      "How To Make A Lot Of Money Fast\n",
      "I am so awesome and smart!!! Sucscribe to me!﻿\n",
      "I&#39;m A SUBSCRIBER﻿\n",
      " I really can&#39;t comprehend Miley Cyrus , she actually is a high profile and she tapes herself banging Today a video was leeched with her sucking and fucking The video has been posted at the celebrity website under :  miley-celeb-news.co.uk \n",
      "Come and watch my video it is called the odowd crowd zombie movie part 1 ﻿\n",
      "Get free gift cards and pay pal money!﻿\n",
      "SEE SOME MORE SONG OPEN GOOGLE AND TYPE Shakira GuruOfMovie﻿\n",
      "+447935454150 lovely girl talk to me xxx﻿\n",
      "PLEASSSSSSSSSSSSSSSS SUBSCRIBEEEEEEEEEE MY CHANNNNNNELLL PLZZ﻿\n"
     ]
    }
   ],
   "source": [
    "miss_classification_print(model_lg.predict(X_test_tfidf),y_test,X_test)"
   ]
  },
  {
   "cell_type": "markdown",
   "metadata": {},
   "source": [
    "Generally speaking ways to improve model accuracy are:\n",
    "\n",
    " 1. tune your classifier (adjusting the classifier's tunable paramaters);\n",
    " 2. apply some sort of classifier combination technique (eg, ensembling, boosting, bagging); \n",
    " 3. look at the data fed to the classifier--either add more data, improve your basic parsing, or refine the features you select from the data.\n",
    " \n",
    "In the last section we looked at option 1 and 2, where we tune each model parameters and tried ensemble method such as random forest. In the next section, we will explore adding more features and try ensemble methods to further improve model accuracy."
   ]
  },
  {
   "cell_type": "markdown",
   "metadata": {},
   "source": [
    "## Machine leanring -- more complex model"
   ]
  },
  {
   "cell_type": "code",
   "execution_count": 45,
   "metadata": {},
   "outputs": [
    {
     "data": {
      "text/html": [
       "<div>\n",
       "<style scoped>\n",
       "    .dataframe tbody tr th:only-of-type {\n",
       "        vertical-align: middle;\n",
       "    }\n",
       "\n",
       "    .dataframe tbody tr th {\n",
       "        vertical-align: top;\n",
       "    }\n",
       "\n",
       "    .dataframe thead th {\n",
       "        text-align: right;\n",
       "    }\n",
       "</style>\n",
       "<table border=\"1\" class=\"dataframe\">\n",
       "  <thead>\n",
       "    <tr style=\"text-align: right;\">\n",
       "      <th></th>\n",
       "      <th>COMMENT_ID</th>\n",
       "      <th>AUTHOR</th>\n",
       "      <th>CONTENT</th>\n",
       "      <th>CLASS</th>\n",
       "      <th>song</th>\n",
       "      <th>length</th>\n",
       "      <th>URL</th>\n",
       "      <th>capital</th>\n",
       "      <th>user_isEnglish</th>\n",
       "      <th>Thursday</th>\n",
       "    </tr>\n",
       "    <tr>\n",
       "      <th>DATE</th>\n",
       "      <th></th>\n",
       "      <th></th>\n",
       "      <th></th>\n",
       "      <th></th>\n",
       "      <th></th>\n",
       "      <th></th>\n",
       "      <th></th>\n",
       "      <th></th>\n",
       "      <th></th>\n",
       "      <th></th>\n",
       "    </tr>\n",
       "  </thead>\n",
       "  <tbody>\n",
       "    <tr>\n",
       "      <th>2013-11-07 06:20:48</th>\n",
       "      <td>LZQPQhLyRh80UYxNuaDWhIGQYNQ96IuCg-AYWqNPjpU</td>\n",
       "      <td>Julius NM</td>\n",
       "      <td>Huh, anyway check out this you[tube] channel: ...</td>\n",
       "      <td>1</td>\n",
       "      <td>Psy</td>\n",
       "      <td>56</td>\n",
       "      <td>False</td>\n",
       "      <td>0.017857</td>\n",
       "      <td>True</td>\n",
       "      <td>True</td>\n",
       "    </tr>\n",
       "    <tr>\n",
       "      <th>2013-11-07 12:37:15</th>\n",
       "      <td>LZQPQhLyRh_C2cTtd9MvFRJedxydaVW-2sNg5Diuo4A</td>\n",
       "      <td>adam riyati</td>\n",
       "      <td>Hey guys check out my new channel and our firs...</td>\n",
       "      <td>1</td>\n",
       "      <td>Psy</td>\n",
       "      <td>167</td>\n",
       "      <td>False</td>\n",
       "      <td>0.119760</td>\n",
       "      <td>True</td>\n",
       "      <td>True</td>\n",
       "    </tr>\n",
       "    <tr>\n",
       "      <th>2013-11-08 17:34:21</th>\n",
       "      <td>LZQPQhLyRh9MSZYnf8djyk0gEF9BHDPYrrK-qCczIY8</td>\n",
       "      <td>Evgeny Murashkin</td>\n",
       "      <td>just for test I have to say murdev.com</td>\n",
       "      <td>1</td>\n",
       "      <td>Psy</td>\n",
       "      <td>38</td>\n",
       "      <td>False</td>\n",
       "      <td>0.026316</td>\n",
       "      <td>True</td>\n",
       "      <td>False</td>\n",
       "    </tr>\n",
       "    <tr>\n",
       "      <th>2013-11-09 08:28:43</th>\n",
       "      <td>z13jhp0bxqncu512g22wvzkasxmvvzjaz04</td>\n",
       "      <td>ElNino Melendez</td>\n",
       "      <td>me shaking my sexy ass on my channel enjoy ^_^ ﻿</td>\n",
       "      <td>1</td>\n",
       "      <td>Psy</td>\n",
       "      <td>48</td>\n",
       "      <td>False</td>\n",
       "      <td>0.000000</td>\n",
       "      <td>True</td>\n",
       "      <td>False</td>\n",
       "    </tr>\n",
       "    <tr>\n",
       "      <th>2013-11-10 16:05:38</th>\n",
       "      <td>z13fwbwp1oujthgqj04chlngpvzmtt3r3dw</td>\n",
       "      <td>GsMega</td>\n",
       "      <td>watch?v=vtaRGgvGtWQ   Check this out .﻿</td>\n",
       "      <td>1</td>\n",
       "      <td>Psy</td>\n",
       "      <td>39</td>\n",
       "      <td>True</td>\n",
       "      <td>0.153846</td>\n",
       "      <td>True</td>\n",
       "      <td>False</td>\n",
       "    </tr>\n",
       "  </tbody>\n",
       "</table>\n",
       "</div>"
      ],
      "text/plain": [
       "                                                      COMMENT_ID  \\\n",
       "DATE                                                               \n",
       "2013-11-07 06:20:48  LZQPQhLyRh80UYxNuaDWhIGQYNQ96IuCg-AYWqNPjpU   \n",
       "2013-11-07 12:37:15  LZQPQhLyRh_C2cTtd9MvFRJedxydaVW-2sNg5Diuo4A   \n",
       "2013-11-08 17:34:21  LZQPQhLyRh9MSZYnf8djyk0gEF9BHDPYrrK-qCczIY8   \n",
       "2013-11-09 08:28:43          z13jhp0bxqncu512g22wvzkasxmvvzjaz04   \n",
       "2013-11-10 16:05:38          z13fwbwp1oujthgqj04chlngpvzmtt3r3dw   \n",
       "\n",
       "                               AUTHOR  \\\n",
       "DATE                                    \n",
       "2013-11-07 06:20:48         Julius NM   \n",
       "2013-11-07 12:37:15       adam riyati   \n",
       "2013-11-08 17:34:21  Evgeny Murashkin   \n",
       "2013-11-09 08:28:43   ElNino Melendez   \n",
       "2013-11-10 16:05:38            GsMega   \n",
       "\n",
       "                                                               CONTENT  CLASS  \\\n",
       "DATE                                                                            \n",
       "2013-11-07 06:20:48  Huh, anyway check out this you[tube] channel: ...      1   \n",
       "2013-11-07 12:37:15  Hey guys check out my new channel and our firs...      1   \n",
       "2013-11-08 17:34:21             just for test I have to say murdev.com      1   \n",
       "2013-11-09 08:28:43   me shaking my sexy ass on my channel enjoy ^_^ ﻿      1   \n",
       "2013-11-10 16:05:38            watch?v=vtaRGgvGtWQ   Check this out .﻿      1   \n",
       "\n",
       "                    song  length    URL   capital  user_isEnglish  Thursday  \n",
       "DATE                                                                         \n",
       "2013-11-07 06:20:48  Psy      56  False  0.017857            True      True  \n",
       "2013-11-07 12:37:15  Psy     167  False  0.119760            True      True  \n",
       "2013-11-08 17:34:21  Psy      38  False  0.026316            True     False  \n",
       "2013-11-09 08:28:43  Psy      48  False  0.000000            True     False  \n",
       "2013-11-10 16:05:38  Psy      39   True  0.153846            True     False  "
      ]
     },
     "execution_count": 45,
     "metadata": {},
     "output_type": "execute_result"
    }
   ],
   "source": [
    "df.head()"
   ]
  },
  {
   "cell_type": "markdown",
   "metadata": {},
   "source": [
    "### first approah: concatenate bag of words with features we explore in the EDA that differentiate two groups:\n",
    "1. comment length\n",
    "2. the percentage of capital words\n",
    "3. whether the comment is made on Thursday"
   ]
  },
  {
   "cell_type": "code",
   "execution_count": 46,
   "metadata": {},
   "outputs": [
    {
     "name": "stderr",
     "output_type": "stream",
     "text": [
      "/anaconda3/lib/python3.5/site-packages/ipykernel_launcher.py:3: SettingWithCopyWarning: \n",
      "A value is trying to be set on a copy of a slice from a DataFrame.\n",
      "Try using .loc[row_indexer,col_indexer] = value instead\n",
      "\n",
      "See the caveats in the documentation: http://pandas.pydata.org/pandas-docs/stable/indexing.html#indexing-view-versus-copy\n",
      "  This is separate from the ipykernel package so we can avoid doing imports until\n",
      "/anaconda3/lib/python3.5/site-packages/ipykernel_launcher.py:4: SettingWithCopyWarning: \n",
      "A value is trying to be set on a copy of a slice from a DataFrame.\n",
      "Try using .loc[row_indexer,col_indexer] = value instead\n",
      "\n",
      "See the caveats in the documentation: http://pandas.pydata.org/pandas-docs/stable/indexing.html#indexing-view-versus-copy\n",
      "  after removing the cwd from sys.path.\n"
     ]
    }
   ],
   "source": [
    "from sklearn.preprocessing import MinMaxScaler\n",
    "\n",
    "X_train['URL']=X_train['URL'].astype(int)\n",
    "X_train['Thursday']=X_train['Thursday'].astype(int)\n",
    "features=X_train[['URL','length','capital','Thursday']]\n",
    "scaler=MinMaxScaler()\n",
    "features_norm=scaler.fit_transform(features)"
   ]
  },
  {
   "cell_type": "code",
   "execution_count": 47,
   "metadata": {},
   "outputs": [],
   "source": [
    "tfidf_dense=tfidf.toarray()\n",
    "feature_new=np.concatenate((tfidf_dense,features_norm),axis=1)"
   ]
  },
  {
   "cell_type": "code",
   "execution_count": 48,
   "metadata": {},
   "outputs": [
    {
     "name": "stderr",
     "output_type": "stream",
     "text": [
      "/anaconda3/lib/python3.5/site-packages/ipykernel_launcher.py:3: SettingWithCopyWarning: \n",
      "A value is trying to be set on a copy of a slice from a DataFrame.\n",
      "Try using .loc[row_indexer,col_indexer] = value instead\n",
      "\n",
      "See the caveats in the documentation: http://pandas.pydata.org/pandas-docs/stable/indexing.html#indexing-view-versus-copy\n",
      "  This is separate from the ipykernel package so we can avoid doing imports until\n",
      "/anaconda3/lib/python3.5/site-packages/ipykernel_launcher.py:4: SettingWithCopyWarning: \n",
      "A value is trying to be set on a copy of a slice from a DataFrame.\n",
      "Try using .loc[row_indexer,col_indexer] = value instead\n",
      "\n",
      "See the caveats in the documentation: http://pandas.pydata.org/pandas-docs/stable/indexing.html#indexing-view-versus-copy\n",
      "  after removing the cwd from sys.path.\n"
     ]
    }
   ],
   "source": [
    "# calculate new feature matrix for test data.\n",
    "\n",
    "X_test['URL']=X_test['URL'].astype(int)\n",
    "X_test['Thursday']=X_test['Thursday'].astype(int)\n",
    "features_test=X_test[['URL','length','capital','Thursday']]\n",
    "scaler_test=MinMaxScaler()\n",
    "features_norm_test=scaler_test.fit_transform(features_test)\n",
    "X_test_feature=np.concatenate((X_test_tfidf.toarray(),features_norm_test),axis=1)\n"
   ]
  },
  {
   "cell_type": "code",
   "execution_count": 49,
   "metadata": {},
   "outputs": [
    {
     "name": "stdout",
     "output_type": "stream",
     "text": [
      "best alpha:  {'kernel': 'linear', 'C': 1}\n",
      "best CV accuracy:  0.9475119291070211\n",
      "the confusion matrix on test data: \n",
      " [[238  14]\n",
      " [  8 229]]\n",
      "the accuracy score on test data is  0.9550102249488752\n"
     ]
    }
   ],
   "source": [
    "\n",
    "\n",
    "svc=SVC()\n",
    "\n",
    "params_svc={'C': [0.001, 0.1, 1, 10],\n",
    "            'kernel':['linear', 'poly', 'rbf']}\n",
    "\n",
    "grid_svc=GridSearchCV(estimator=svc, param_grid=params_svc,scoring='accuracy',cv=5,n_jobs=-1)\n",
    "grid_svc.fit(feature_new,y_train)\n",
    "model_svc_concat=grid_svc.best_estimator_\n",
    "print(\"best alpha: \", grid_svc.best_params_)\n",
    "print(\"best CV accuracy: \",grid_svc.best_score_)\n",
    "\n",
    "print(\"the confusion matrix on test data: \\n\", confusion_matrix(y_test,model_svc_concat.predict(X_test_feature)))\n",
    "print(\"the accuracy score on test data is \", accuracy_score(y_test,model_svc_concat.predict(X_test_feature)))"
   ]
  },
  {
   "cell_type": "code",
   "execution_count": 50,
   "metadata": {},
   "outputs": [
    {
     "name": "stdout",
     "output_type": "stream",
     "text": [
      "ham messages that are misclassified as spam \n",
      "\n",
      "This song is about Rape and Cheating     <br /><br /><br /><br /><br /><br /><br /><br /><br /><br />Basically.....﻿\n",
      "she is a fool. this is a foolish video. the lyrics are all about her and  how great she is. she is arrogant, obviously. but the thing is that there  are a lot of idiots.. look how many hits this garnered. the young stupid  girls who listen to her are numbering in the millions i guess. this video  is a piece of trash. why would anyone ever like it or listen to it? because  these stupid little girls have idiots for fathers and mothers.. and so they  are going to turn into idiots also.. just like this stupid singer. ﻿\n",
      "C'mon Katy you are so close to 14,000,000 subscribers...come up with  another hit like this and it will happen﻿\n",
      "sorry to all my haters<br /><br /><br /><br /><br /><br /><br /><br /><br /><br /><br /><br /><br />for party rock en﻿\n",
      "If you are a person that loves real music you should listen to &quot;Cruz Supat&quot;<br />He is awesome as fuck!!! Just as eminem used to be.﻿\n",
      "they said this video are not deserve 2billion views , while they keep  visiting it to watch the viewer . ﻿\n",
      "Loves it﻿\n",
      "\"....because I AM a champion...and you are going to hear me roar!\"   Today I AM my own champion  Today I AM a champion for the Creator  Today I AM doing positive in my world Today I AM blessing and healing all around me Today I AM successful and  creating success  ﻿\n",
      "On 0:02 you can see the camera man on his glasses....﻿\n",
      "My honest opinion. it is a very mediocre song. Nothing unique or special  about her music, lyrics or voice. Nothing memorable like Billie Jean or  Beat It. Before her millions of fans reply with hate comments, i know this  is a democracy and people are free to see what they want. But then do not I  have the right to express my opinion? Please do not reply with dumb comments  lie \"if you do not like it do not watch it\". I just came here to see what is  the buzz about(661 million views??) and did not like what i saw. OK?﻿\n",
      "I do not even watch it anymore i just come here to check on 2 Billion or not﻿\n",
      "<a href=\"http://www.youtube.com/watch?v=KQ6zr6kCPj8&amp;t=2m19s\">2:19</a> best part﻿\n",
      "My friend Sam loves this song😊😊😊😊😊😊😊😊😊😊😊😊😊😊😊😊😊😊😊😊😊😊😊😊😊😊😊😊😊😊😊😊😊😊😊😊😊😊😊😊😊😊😊😊😊😊﻿\n",
      "Thumbs up if you&#39;re watching in 2015﻿\n",
      "\n",
      "\n",
      "\n",
      "\n",
      "spam messages that are misclassified as ham \n",
      "\n",
      "Share this video.. This song can beat PSY - Gangnam Style!\n",
      "HOW DO YOU PUT A PICTURE FOR YOUR IMAGE THINGIE?!?!﻿\n",
      "I love katy fashions tiger, care to visit my blog sinar jahitan  I also have the tiger collections tqvm﻿\n",
      "Message :   GTA V  $20  FIFA 14 $15  PS4  $200  Galaxy S4 mini $250  Ipad 4   $200  visit the site hh.nl\n",
      "I am so awesome and smart!!! Sucscribe to me!﻿\n",
      "I&#39;m A SUBSCRIBER﻿\n",
      "SEE SOME MORE SONG OPEN GOOGLE AND TYPE Shakira GuruOfMovie﻿\n",
      "+447935454150 lovely girl talk to me xxx﻿\n"
     ]
    }
   ],
   "source": [
    "miss_classification_print(model_svc_concat.predict(X_test_feature),y_test,X_test)"
   ]
  },
  {
   "cell_type": "code",
   "execution_count": 51,
   "metadata": {},
   "outputs": [
    {
     "name": "stdout",
     "output_type": "stream",
     "text": [
      "best alpha:  {'C': 50}\n",
      "best CV accuracy:  0.9522835719154737\n",
      "the confusion matrix on test data: \n",
      " [[233  19]\n",
      " [  7 230]]\n",
      "the accuracy score on test data is  0.9468302658486708\n"
     ]
    }
   ],
   "source": [
    "\n",
    "\n",
    "lg=LogisticRegression(random_state=10)\n",
    "\n",
    "params_lg={'C': [0.1, 1, 10, 50, 100]}\n",
    "\n",
    "grid_lg=GridSearchCV(estimator=lg, param_grid=params_lg,scoring='accuracy',cv=5,n_jobs=-1)\n",
    "grid_lg.fit(feature_new,y_train)\n",
    "model_lg_concat=grid_lg.best_estimator_\n",
    "print(\"best alpha: \", grid_lg.best_params_)\n",
    "print(\"best CV accuracy: \",grid_lg.best_score_)\n",
    "\n",
    "print(\"the confusion matrix on test data: \\n\", confusion_matrix(y_test,model_lg_concat.predict(X_test_feature)))\n",
    "print(\"the accuracy score on test data is \", accuracy_score(y_test,model_lg_concat.predict(X_test_feature)))"
   ]
  },
  {
   "cell_type": "code",
   "execution_count": 52,
   "metadata": {},
   "outputs": [
    {
     "name": "stdout",
     "output_type": "stream",
     "text": [
      "ham messages that are misclassified as spam \n",
      "\n",
      "This song is about Rape and Cheating     <br /><br /><br /><br /><br /><br /><br /><br /><br /><br />Basically.....﻿\n",
      "she is a fool. this is a foolish video. the lyrics are all about her and  how great she is. she is arrogant, obviously. but the thing is that there  are a lot of idiots.. look how many hits this garnered. the young stupid  girls who listen to her are numbering in the millions i guess. this video  is a piece of trash. why would anyone ever like it or listen to it? because  these stupid little girls have idiots for fathers and mothers.. and so they  are going to turn into idiots also.. just like this stupid singer. ﻿\n",
      "I started hating Katy Perry after finding out that she stole all of the  ideas on her videos  from an old comic book. Yet, her music is catchy. ﻿\n",
      "C'mon Katy you are so close to 14,000,000 subscribers...come up with  another hit like this and it will happen﻿\n",
      "sorry to all my haters<br /><br /><br /><br /><br /><br /><br /><br /><br /><br /><br /><br /><br />for party rock en﻿\n",
      "If you are a person that loves real music you should listen to &quot;Cruz Supat&quot;<br />He is awesome as fuck!!! Just as eminem used to be.﻿\n",
      "I remember when everyone was obsessed with Gangnam Style 😗﻿\n",
      "I found out this song now﻿\n",
      "Loves it﻿\n",
      "\"....because I AM a champion...and you are going to hear me roar!\"   Today I AM my own champion  Today I AM a champion for the Creator  Today I AM doing positive in my world Today I AM blessing and healing all around me Today I AM successful and  creating success  ﻿\n",
      "On 0:02 you can see the camera man on his glasses....﻿\n",
      "My honest opinion. it is a very mediocre song. Nothing unique or special  about her music, lyrics or voice. Nothing memorable like Billie Jean or  Beat It. Before her millions of fans reply with hate comments, i know this  is a democracy and people are free to see what they want. But then do not I  have the right to express my opinion? Please do not reply with dumb comments  lie \"if you do not like it do not watch it\". I just came here to see what is  the buzz about(661 million views??) and did not like what i saw. OK?﻿\n",
      "You think you are smart?        Headbutt your face.﻿\n",
      "I do not even watch it anymore i just come here to check on 2 Billion or not﻿\n",
      "In my opinion I think you look better with black hair then blond hair : )﻿\n",
      "<a href=\"http://www.youtube.com/watch?v=KQ6zr6kCPj8&amp;t=2m19s\">2:19</a> best part﻿\n",
      "My friend Sam loves this song😊😊😊😊😊😊😊😊😊😊😊😊😊😊😊😊😊😊😊😊😊😊😊😊😊😊😊😊😊😊😊😊😊😊😊😊😊😊😊😊😊😊😊😊😊😊﻿\n",
      "Thumbs up if you&#39;re watching in 2015﻿\n",
      "Why do I feel like as if Gangnam style copied their song from this?!﻿\n",
      "\n",
      "\n",
      "\n",
      "\n",
      "spam messages that are misclassified as ham \n",
      "\n",
      "I love katy fashions tiger, care to visit my blog sinar jahitan  I also have the tiger collections tqvm﻿\n",
      "How To Make A Lot Of Money Fast\n",
      "I am so awesome and smart!!! Sucscribe to me!﻿\n",
      "I&#39;m A SUBSCRIBER﻿\n",
      "Get free gift cards and pay pal money!﻿\n",
      "SEE SOME MORE SONG OPEN GOOGLE AND TYPE Shakira GuruOfMovie﻿\n",
      "+447935454150 lovely girl talk to me xxx﻿\n"
     ]
    }
   ],
   "source": [
    "miss_classification_print(model_lg_concat.predict(X_test_feature),y_test,X_test)"
   ]
  },
  {
   "cell_type": "code",
   "execution_count": 53,
   "metadata": {},
   "outputs": [
    {
     "name": "stdout",
     "output_type": "stream",
     "text": [
      "best alpha:  {'n_estimators': 100, 'learning_rate': 1}\n",
      "best CV accuracy:  0.9379686434901159\n",
      "the confusion matrix on test data: \n",
      " [[229  23]\n",
      " [ 14 223]]\n",
      "the accuracy score on test data is  0.9243353783231084\n"
     ]
    }
   ],
   "source": [
    "from sklearn.ensemble import AdaBoostClassifier\n",
    "from sklearn.tree import DecisionTreeClassifier\n",
    "\n",
    "dt=DecisionTreeClassifier(max_depth=4,random_state=10)\n",
    "\n",
    "adb=AdaBoostClassifier(base_estimator=dt,random_state=10)\n",
    "\n",
    "params_adb={'n_estimators': [50, 100, 200],\n",
    "          'learning_rate': [0.1, 1, 10]}\n",
    "\n",
    "grid_adb=GridSearchCV(estimator=adb, param_grid=params_adb,scoring='accuracy',cv=5,n_jobs=-1)\n",
    "grid_adb.fit(feature_new,y_train)\n",
    "model_adb_concat=grid_adb.best_estimator_\n",
    "print(\"best alpha: \", grid_adb.best_params_)\n",
    "print(\"best CV accuracy: \",grid_adb.best_score_)\n",
    "\n",
    "print(\"the confusion matrix on test data: \\n\", confusion_matrix(y_test,model_adb_concat.predict(X_test_feature)))\n",
    "print(\"the accuracy score on test data is \", accuracy_score(y_test,model_adb_concat.predict(X_test_feature)))\n"
   ]
  },
  {
   "cell_type": "code",
   "execution_count": 54,
   "metadata": {},
   "outputs": [
    {
     "name": "stdout",
     "output_type": "stream",
     "text": [
      "(1467, 867)\n"
     ]
    },
    {
     "data": {
      "text/plain": [
       "array([  0, 831, 515, 517, 518, 519, 520, 521, 830, 523, 524, 525, 526,\n",
       "       527, 528, 531, 532, 533, 534, 535, 513, 537, 512, 832, 485, 486,\n",
       "       487, 488, 489, 490, 492, 493, 494, 495, 496, 497, 499, 833, 502,\n",
       "       503, 504, 505, 507, 510, 538, 539, 540, 566, 567, 568, 569, 570,\n",
       "       571, 572, 573, 574, 575, 576, 577, 578, 580, 581, 582, 583, 584,\n",
       "       585, 565, 564, 563, 562, 541, 542, 543, 544, 545, 546, 547, 549,\n",
       "       550, 484, 551, 553, 828, 555, 556, 557, 558, 559, 560, 561, 552,\n",
       "       483, 482, 834, 408, 409, 411, 412, 413, 415, 416, 417, 418, 420,\n",
       "       421, 840, 423, 839, 425, 426, 838, 428, 429, 407, 811, 405, 403,\n",
       "       378, 379, 381, 382, 383, 384, 386, 387, 389, 430, 390, 392, 393,\n",
       "       394, 395, 396, 397, 398, 399, 401, 391, 587, 431, 837, 459, 460,\n",
       "       461, 462, 463, 464, 465, 466, 467, 468, 835, 470, 471, 472, 473,\n",
       "       475, 476, 479, 480, 458, 457, 456, 455, 434, 435, 436, 437, 439,\n",
       "       440, 836, 442, 443, 432, 444, 446, 447, 448, 449, 450, 451, 452,\n",
       "       453, 454, 445, 588, 589, 590, 729, 730, 731, 732, 733, 737, 738,\n",
       "       741, 742, 743, 747, 748, 817, 750, 751, 752, 753, 754, 755, 821,\n",
       "       724, 723, 722, 699, 701, 702, 824, 823, 822, 706, 707, 708, 756,\n",
       "       709, 712, 713, 714, 715, 716, 718, 719, 720, 721, 710, 698, 758,\n",
       "       760, 785, 786, 787, 789, 815, 792, 793, 814, 796, 798, 799, 800,\n",
       "       801, 803, 804, 813, 806, 808, 810, 784, 783, 782, 781, 761, 762,\n",
       "       763, 764, 765, 766, 767, 768, 769, 759, 770, 772, 773, 774, 775,\n",
       "       776, 777, 816, 779, 780, 771, 375, 697, 695, 618, 619, 620, 621,\n",
       "       622, 624, 625, 627, 628, 629, 630, 631, 635, 637, 638, 639, 640,\n",
       "       641, 643, 617, 616, 615, 614, 591, 592, 593, 594, 595, 596, 597,\n",
       "       598, 599, 645, 600, 602, 603, 604, 606, 607, 608, 609, 611, 613,\n",
       "       601, 696, 646, 648, 675, 676, 677, 678, 679, 680, 681, 682, 683,\n",
       "       684, 685, 686, 687, 688, 689, 690, 691, 693, 694, 674, 673, 672,\n",
       "       671, 649, 650, 651, 652, 653, 654, 655, 656, 657, 647, 658, 661,\n",
       "       662, 663, 664, 665, 666, 826, 669, 670, 659, 374, 406, 372, 135,\n",
       "       136, 137, 138, 859, 140, 858, 142, 143, 144, 145, 146, 147, 148,\n",
       "       149, 150, 151, 152, 153, 134, 133, 132, 131, 110, 111, 112, 113,\n",
       "       114, 115, 116, 861, 118, 155, 119, 121, 122, 124, 125, 126, 127,\n",
       "       128, 129, 860, 120, 109, 156, 158, 186, 187, 189, 190, 194, 195,\n",
       "       196, 197, 198, 199, 200, 201, 202, 203, 204, 205, 206, 207, 208,\n",
       "       185, 184, 183, 373, 856, 161, 162, 164, 165, 166, 167, 168, 170,\n",
       "       157, 171, 173, 174, 175, 176, 177, 178, 179, 180, 181, 172, 209,\n",
       "       108, 105,  28,  29,  30,  31,  32,  33,  34,  35,  36,  37,  38,\n",
       "        39,  41,  42,  43,  44,  45,  46,  48,  27,  26,  25,  24,   2,\n",
       "         3,   4,   5,   6,   7,   8,   9,  10,  49,  11,  13,  14,  15,\n",
       "        17,  18,  19,  20,  22,  23,  12, 107,  50,  52,  80,  81,  82,\n",
       "        83,  85,  87,  88,  89,  91,  94,  95,  96,  97,  98,  99, 100,\n",
       "       101, 103, 104,  79,  78,  77,  76,  53,  54,  55,  56,  58,  59,\n",
       "        60,  61,  62,  51,  63,  66,  67,  68,  69,  70,  71,  72,  73,\n",
       "        74,  65, 211, 182, 296, 277, 278, 279, 351, 845, 349, 276, 348,\n",
       "       285, 342, 286, 287, 849, 289, 284, 275, 352, 273, 262, 263, 357,\n",
       "       844, 355, 354, 324, 353, 266, 267, 268, 269, 270, 271, 850, 290,\n",
       "       852, 291, 341, 311, 312, 334, 333, 332, 316, 310, 330, 319, 320,\n",
       "       329, 328, 327, 326, 318, 309, 308, 307, 340, 212, 297, 298, 299,\n",
       "       339, 302, 303, 338, 337, 304, 336, 335, 305, 306, 292, 260, 265,\n",
       "       238, 842, 243, 242, 241, 369, 240, 239, 358, 237, 236, 235, 234,\n",
       "       233, 232, 244, 231, 228, 371, 225, 224, 222, 221, 220, 219, 854,\n",
       "       217, 216, 215, 214, 213, 230, 843, 325, 254, 255, 256, 253, 364,\n",
       "       252, 257, 363, 251, 250, 362, 365, 258, 360, 249, 248, 366, 359,\n",
       "       247, 361, 245, 246, 802, 229,  84, 283, 377, 610, 862, 579, 400,\n",
       "       794, 506, 344, 529, 192, 188,  86, 226, 477,  47, 402, 820, 735,\n",
       "       300, 757, 746, 376, 313, 223, 281, 511, 102, 331, 626, 857, 586,\n",
       "       106, 370, 388, 812, 851, 809, 474, 744, 500,  75, 169, 841, 317,\n",
       "       193,  16, 322, 605, 736, 259, 323, 825, 644, 294, 612, 536, 314,\n",
       "       419, 280, 711, 668, 848, 227, 123, 734, 829, 818, 726, 478, 210,\n",
       "       660, 191,   1,  90, 385, 548, 509, 717, 788, 642, 633, 295,  92,\n",
       "       632, 274, 516,  93, 414, 819, 410, 846,  57, 321, 692, 807, 636,\n",
       "        40, 293, 438, 343, 725, 827, 301, 282, 791, 855, 797, 847, 160,\n",
       "       623, 380, 491, 745, 315,  21, 498, 433, 739, 778, 288, 261, 704,\n",
       "       347, 727, 163, 117, 345, 514, 424, 790, 805, 469, 634, 427, 141,\n",
       "       356, 159, 705, 667, 530, 501,  64, 700, 218, 346, 139, 130, 422,\n",
       "       795, 508, 740, 749, 703, 441, 154, 264, 866, 350, 522, 554, 368,\n",
       "       728, 367, 404, 863, 272, 481, 853, 865, 864])"
      ]
     },
     "execution_count": 54,
     "metadata": {},
     "output_type": "execute_result"
    }
   ],
   "source": [
    "print(feature_new.shape)\n",
    "model_adb_concat.feature_importances_.argsort()"
   ]
  },
  {
   "cell_type": "markdown",
   "metadata": {},
   "source": [
    "It's seen that concatenate bag of words with other features don't improve the accuracy. And it's seen that length of the comment and whether it contains URL are placed as more important features."
   ]
  },
  {
   "cell_type": "markdown",
   "metadata": {},
   "source": [
    "### second approach: use the probability from the models using bag of words as new features and concat it with features:\n",
    "1. wheter it contains URL\n",
    "2. comment length\n",
    "3. the percentage of capital words\n",
    "4. whether the comment is made on Thursday"
   ]
  },
  {
   "cell_type": "code",
   "execution_count": 55,
   "metadata": {},
   "outputs": [],
   "source": [
    "X_prob_nb=model_nb.predict_proba(tfidf)\n",
    "X_prob_rf=model_rf.predict_proba(tfidf)\n",
    "X_prob_lg=model_lg.predict_proba(tfidf)\n",
    "\n",
    "\n",
    "X_prob_nb=X_prob_nb[:,1].reshape(1467,1)\n",
    "X_prob_rf=X_prob_rf[:,1].reshape(1467,1)\n",
    "X_prob_lg=X_prob_lg[:,1].reshape(1467,1)\n",
    "\n",
    "X_feature_prob=np.concatenate((features_norm,X_prob_nb,X_prob_rf,X_prob_lg),axis=1)\n",
    "\n",
    "\n",
    "X_prob_nb_test=model_nb.predict_proba(X_test_tfidf)[:,1].reshape(489,1)\n",
    "X_prob_rf_test=model_rf.predict_proba(X_test_tfidf)[:,1].reshape(489,1)\n",
    "X_prob_lg_test=model_lg.predict_proba(X_test_tfidf)[:,1].reshape(489,1)\n",
    "\n",
    "X_test_prob=np.concatenate((features_norm_test,X_prob_nb_test,X_prob_rf_test,X_prob_lg_test),axis=1)"
   ]
  },
  {
   "cell_type": "code",
   "execution_count": 56,
   "metadata": {},
   "outputs": [
    {
     "name": "stdout",
     "output_type": "stream",
     "text": [
      "best alpha:  {'C': 1}\n",
      "best CV accuracy:  0.9986366734832992\n",
      "the confusion matrix on test data: \n",
      " [[243   9]\n",
      " [  9 228]]\n",
      "the accuracy score on test data is  0.9631901840490797\n"
     ]
    }
   ],
   "source": [
    "\n",
    "\n",
    "lg=LogisticRegression(random_state=10)\n",
    "\n",
    "params_lg={'C': [0.1, 1, 10, 50, 100]}\n",
    "\n",
    "grid_lg=GridSearchCV(estimator=lg, param_grid=params_lg,scoring='accuracy',cv=5,n_jobs=-1)\n",
    "grid_lg.fit(X_feature_prob,y_train)\n",
    "model_prob_lg=grid_lg.best_estimator_\n",
    "print(\"best alpha: \", grid_lg.best_params_)\n",
    "print(\"best CV accuracy: \",grid_lg.best_score_)\n",
    "\n",
    "print(\"the confusion matrix on test data: \\n\", confusion_matrix(y_test,model_prob_lg.predict(X_test_prob)))\n",
    "print(\"the accuracy score on test data is \", accuracy_score(y_test,model_prob_lg.predict(X_test_prob)))"
   ]
  },
  {
   "cell_type": "code",
   "execution_count": 57,
   "metadata": {},
   "outputs": [
    {
     "name": "stdout",
     "output_type": "stream",
     "text": [
      "ham messages that are misclassified as spam \n",
      "\n",
      "C'mon Katy you are so close to 14,000,000 subscribers...come up with  another hit like this and it will happen﻿\n",
      "If you are a person that loves real music you should listen to &quot;Cruz Supat&quot;<br />He is awesome as fuck!!! Just as eminem used to be.﻿\n",
      "I found out this song now﻿\n",
      "Loves it﻿\n",
      "On 0:02 you can see the camera man on his glasses....﻿\n",
      "What&#39;s with the guys jacket? 1 sleeve and a sleeveless arm﻿\n",
      "I do not even watch it anymore i just come here to check on 2 Billion or not﻿\n",
      "<a href=\"http://www.youtube.com/watch?v=KQ6zr6kCPj8&amp;t=2m19s\">2:19</a> best part﻿\n",
      "Thumbs up if you&#39;re watching in 2015﻿\n",
      "\n",
      "\n",
      "\n",
      "\n",
      "spam messages that are misclassified as ham \n",
      "\n",
      "I love katy fashions tiger, care to visit my blog sinar jahitan  I also have the tiger collections tqvm﻿\n",
      "Message :   GTA V  $20  FIFA 14 $15  PS4  $200  Galaxy S4 mini $250  Ipad 4   $200  visit the site hh.nl\n",
      "I am so awesome and smart!!! Sucscribe to me!﻿\n",
      "I&#39;m A SUBSCRIBER﻿\n",
      " I really can&#39;t comprehend Miley Cyrus , she actually is a high profile and she tapes herself banging Today a video was leeched with her sucking and fucking The video has been posted at the celebrity website under :  miley-celeb-news.co.uk \n",
      "Come and watch my video it is called the odowd crowd zombie movie part 1 ﻿\n",
      "SEE SOME MORE SONG OPEN GOOGLE AND TYPE Shakira GuruOfMovie﻿\n",
      "+447935454150 lovely girl talk to me xxx﻿\n",
      "PLEASSSSSSSSSSSSSSSS SUBSCRIBEEEEEEEEEE MY CHANNNNNNELLL PLZZ﻿\n"
     ]
    }
   ],
   "source": [
    "miss_classification_print(model_prob_lg.predict(X_test_prob),y_test,X_test)"
   ]
  },
  {
   "cell_type": "markdown",
   "metadata": {},
   "source": [
    "As we see the validation score on training set is higher than testing set, which means the model tends to overfit the training data. We might need more training data to train such a complex model."
   ]
  },
  {
   "cell_type": "markdown",
   "metadata": {},
   "source": [
    "### Third approach: reduce the dimensionality of bag of words (using PCA or SVD) and combine with these features:\n",
    "\n",
    "1. wheter it contains URL\n",
    "2. comment length\n",
    "3. the percentage of capital words\n",
    "4. whether the comment is made on Thursday"
   ]
  },
  {
   "cell_type": "code",
   "execution_count": 58,
   "metadata": {},
   "outputs": [
    {
     "name": "stdout",
     "output_type": "stream",
     "text": [
      "0.9484107032010575\n"
     ]
    },
    {
     "data": {
      "image/png": "[encoded data removed]",
      "text/plain": [
       "<Figure size 432x288 with 1 Axes>"
      ]
     },
     "metadata": {},
     "output_type": "display_data"
    }
   ],
   "source": [
    "svd=TruncatedSVD(n_components=400,random_state=10)\n",
    "X_transform=svd.fit_transform(tfidf)\n",
    "\n",
    "CDF=np.cumsum(svd.explained_variance_ratio_)\n",
    "plt.plot(CDF)\n",
    "print(svd.explained_variance_ratio_.sum())"
   ]
  },
  {
   "cell_type": "markdown",
   "metadata": {},
   "source": [
    "We select 350 components thus to retain 94.8% of the variance in the training data."
   ]
  },
  {
   "cell_type": "code",
   "execution_count": 59,
   "metadata": {},
   "outputs": [],
   "source": [
    "X_reduced_features=np.concatenate((features_norm,X_transform),axis=1)\n",
    "X_reduced_test_features=np.concatenate((features_norm_test,svd.transform(X_test_tfidf)),axis=1)"
   ]
  },
  {
   "cell_type": "code",
   "execution_count": 60,
   "metadata": {},
   "outputs": [
    {
     "name": "stdout",
     "output_type": "stream",
     "text": [
      "best alpha:  {'C': 50}\n",
      "best CV accuracy:  0.9556918882072256\n",
      "the confusion matrix on test data: \n",
      " [[234  18]\n",
      " [  6 231]]\n",
      "the accuracy score on test data is  0.950920245398773\n"
     ]
    }
   ],
   "source": [
    "\n",
    "lg=LogisticRegression(random_state=10)\n",
    "\n",
    "params_lg={'C': [10, 50, 100]}\n",
    "\n",
    "grid_lg=GridSearchCV(estimator=lg, param_grid=params_lg,scoring='accuracy',cv=5,n_jobs=-1)\n",
    "grid_lg.fit(X_reduced_features,y_train)\n",
    "model_reduce_lg=grid_lg.best_estimator_\n",
    "print(\"best alpha: \", grid_lg.best_params_)\n",
    "print(\"best CV accuracy: \",grid_lg.best_score_)\n",
    "\n",
    "print(\"the confusion matrix on test data: \\n\", confusion_matrix(y_test,model_reduce_lg.predict(X_reduced_test_features)))\n",
    "print(\"the accuracy score on test data is \", accuracy_score(y_test,model_reduce_lg.predict(X_reduced_test_features)))"
   ]
  },
  {
   "cell_type": "code",
   "execution_count": 61,
   "metadata": {},
   "outputs": [
    {
     "name": "stdout",
     "output_type": "stream",
     "text": [
      "best alpha:  {'kernel': 'linear', 'C': 1}\n",
      "best CV accuracy:  0.9502385821404227\n",
      "the confusion matrix on test data: \n",
      " [[238  14]\n",
      " [  7 230]]\n",
      "the accuracy score on test data is  0.9570552147239264\n"
     ]
    }
   ],
   "source": [
    "svc=SVC()\n",
    "\n",
    "params_svc={'C': [0.001, 0.1, 1, 10],\n",
    "            'kernel':['linear', 'poly', 'rbf']}\n",
    "\n",
    "grid_svc=GridSearchCV(estimator=svc, param_grid=params_svc,scoring='accuracy',cv=5,n_jobs=-1)\n",
    "grid_svc.fit(X_reduced_features,y_train)\n",
    "model_svc_reduce=grid_svc.best_estimator_\n",
    "print(\"best alpha: \", grid_svc.best_params_)\n",
    "print(\"best CV accuracy: \",grid_svc.best_score_)\n",
    "\n",
    "print(\"the confusion matrix on test data: \\n\", confusion_matrix(y_test,model_svc_reduce.predict(X_reduced_test_features)))\n",
    "print(\"the accuracy score on test data is \", accuracy_score(y_test,model_svc_reduce.predict(X_reduced_test_features)))"
   ]
  },
  {
   "cell_type": "code",
   "execution_count": 62,
   "metadata": {},
   "outputs": [
    {
     "name": "stdout",
     "output_type": "stream",
     "text": [
      "ham messages that are misclassified as spam \n",
      "\n",
      "C'mon Katy you are so close to 14,000,000 subscribers...come up with  another hit like this and it will happen﻿\n",
      "If you are a person that loves real music you should listen to &quot;Cruz Supat&quot;<br />He is awesome as fuck!!! Just as eminem used to be.﻿\n",
      "I found out this song now﻿\n",
      "Loves it﻿\n",
      "On 0:02 you can see the camera man on his glasses....﻿\n",
      "What&#39;s with the guys jacket? 1 sleeve and a sleeveless arm﻿\n",
      "I do not even watch it anymore i just come here to check on 2 Billion or not﻿\n",
      "<a href=\"http://www.youtube.com/watch?v=KQ6zr6kCPj8&amp;t=2m19s\">2:19</a> best part﻿\n",
      "Thumbs up if you&#39;re watching in 2015﻿\n",
      "\n",
      "\n",
      "\n",
      "\n",
      "spam messages that are misclassified as ham \n",
      "\n",
      "I love katy fashions tiger, care to visit my blog sinar jahitan  I also have the tiger collections tqvm﻿\n",
      "Message :   GTA V  $20  FIFA 14 $15  PS4  $200  Galaxy S4 mini $250  Ipad 4   $200  visit the site hh.nl\n",
      "I am so awesome and smart!!! Sucscribe to me!﻿\n",
      "I&#39;m A SUBSCRIBER﻿\n",
      " I really can&#39;t comprehend Miley Cyrus , she actually is a high profile and she tapes herself banging Today a video was leeched with her sucking and fucking The video has been posted at the celebrity website under :  miley-celeb-news.co.uk \n",
      "Come and watch my video it is called the odowd crowd zombie movie part 1 ﻿\n",
      "SEE SOME MORE SONG OPEN GOOGLE AND TYPE Shakira GuruOfMovie﻿\n",
      "+447935454150 lovely girl talk to me xxx﻿\n",
      "PLEASSSSSSSSSSSSSSSS SUBSCRIBEEEEEEEEEE MY CHANNNNNNELLL PLZZ﻿\n"
     ]
    }
   ],
   "source": [
    "miss_classification_print(model_prob_lg.predict(X_test_prob),y_test,X_test)"
   ]
  },
  {
   "cell_type": "code",
   "execution_count": null,
   "metadata": {},
   "outputs": [],
   "source": []
  }
 ],
 "metadata": {
  "kernelspec": {
   "display_name": "Python 3",
   "language": "python",
   "name": "python3"
  },
  "language_info": {
   "codemirror_mode": {
    "name": "ipython",
    "version": 3
   },
   "file_extension": ".py",
   "mimetype": "text/x-python",
   "name": "python",
   "nbconvert_exporter": "python",
   "pygments_lexer": "ipython3",
   "version": "3.5.5"
  }
 },
 "nbformat": 4,
 "nbformat_minor": 2
}
