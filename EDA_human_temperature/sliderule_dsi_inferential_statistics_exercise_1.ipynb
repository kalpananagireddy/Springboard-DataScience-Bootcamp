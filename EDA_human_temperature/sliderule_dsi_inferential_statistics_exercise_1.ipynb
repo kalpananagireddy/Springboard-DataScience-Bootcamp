{
 "cells": [
  {
   "cell_type": "markdown",
   "metadata": {},
   "source": [
    "# What is the True Normal Human Body Temperature? \n",
    "\n",
    "#### Background\n",
    "\n",
    "The mean normal body temperature was held to be 37$^{\\circ}$C or 98.6$^{\\circ}$F for more than 120 years since it was first conceptualized and reported by Carl Wunderlich in a famous 1868 book. But, is this value statistically correct?"
   ]
  },
  {
   "cell_type": "markdown",
   "metadata": {},
   "source": [
    "<h3>Exercises</h3>\n",
    "\n",
    "<p>In this exercise, you will analyze a dataset of human body temperatures and employ the concepts of hypothesis testing, confidence intervals, and statistical significance.</p>\n",
    "\n",
    "<p>Answer the following questions <b>in this notebook below and submit to your Github account</b>.</p> \n",
    "\n",
    "<ol>\n",
    "<li>  Is the distribution of body temperatures normal? \n",
    "    <ul>\n",
    "    <li> Although this is not a requirement for the Central Limit Theorem to hold (read the introduction on Wikipedia's page about the CLT carefully: https://en.wikipedia.org/wiki/Central_limit_theorem), it gives us some peace of mind that the population may also be normally distributed if we assume that this sample is representative of the population.\n",
    "    <li> Think about the way you're going to check for the normality of the distribution. Graphical methods are usually used first, but there are also other ways: https://en.wikipedia.org/wiki/Normality_test\n",
    "    </ul>\n",
    "<li>  Is the sample size large? Are the observations independent?\n",
    "    <ul>\n",
    "    <li> Remember that this is a condition for the Central Limit Theorem, and hence the statistical tests we are using, to apply.\n",
    "    </ul>\n",
    "<li>  Is the true population mean really 98.6 degrees F?\n",
    "    <ul>\n",
    "    <li> First, try a bootstrap hypothesis test.\n",
    "    <li> Now, let's try frequentist statistical testing. Would you use a one-sample or two-sample test? Why?\n",
    "    <li> In this situation, is it appropriate to use the $t$ or $z$ statistic? \n",
    "    <li> Now try using the other test. How is the result be different? Why?\n",
    "    </ul>\n",
    "<li>  Draw a small sample of size 10 from the data and repeat both frequentist tests. \n",
    "    <ul>\n",
    "    <li> Which one is the correct one to use? \n",
    "    <li> What do you notice? What does this tell you about the difference in application of the $t$ and $z$ statistic?\n",
    "    </ul>\n",
    "<li>  At what temperature should we consider someone's temperature to be \"abnormal\"?\n",
    "    <ul>\n",
    "    <li> As in the previous example, try calculating everything using the boostrap approach, as well as the frequentist approach.\n",
    "    <li> Start by computing the margin of error and confidence interval. When calculating the confidence interval, keep in mind that you should use the appropriate formula for one draw, and not N draws.\n",
    "    </ul>\n",
    "<li>  Is there a significant difference between males and females in normal temperature?\n",
    "    <ul>\n",
    "    <li> What testing approach did you use and why?\n",
    "    <li> Write a story with your conclusion in the context of the original problem.\n",
    "    </ul>\n",
    "</ol>\n",
    "\n",
    "You can include written notes in notebook cells using Markdown: \n",
    "   - In the control panel at the top, choose Cell > Cell Type > Markdown\n",
    "   - Markdown syntax: http://nestacms.com/docs/creating-content/markdown-cheat-sheet\n",
    "\n",
    "#### Resources\n",
    "\n",
    "+ Information and data sources: http://www.amstat.org/publications/jse/datasets/normtemp.txt, http://www.amstat.org/publications/jse/jse_data_archive.htm\n",
    "+ Markdown syntax: http://nestacms.com/docs/creating-content/markdown-cheat-sheet\n",
    "\n",
    "****"
   ]
  },
  {
   "cell_type": "code",
   "execution_count": 1,
   "metadata": {},
   "outputs": [],
   "source": [
    "%matplotlib inline"
   ]
  },
  {
   "cell_type": "code",
   "execution_count": 2,
   "metadata": {},
   "outputs": [],
   "source": [
    "import pandas as pd\n",
    "\n",
    "df = pd.read_csv('data/human_body_temperature.csv')"
   ]
  },
  {
   "cell_type": "code",
   "execution_count": 3,
   "metadata": {},
   "outputs": [
    {
     "data": {
      "text/html": [
       "<div>\n",
       "<style scoped>\n",
       "    .dataframe tbody tr th:only-of-type {\n",
       "        vertical-align: middle;\n",
       "    }\n",
       "\n",
       "    .dataframe tbody tr th {\n",
       "        vertical-align: top;\n",
       "    }\n",
       "\n",
       "    .dataframe thead th {\n",
       "        text-align: right;\n",
       "    }\n",
       "</style>\n",
       "<table border=\"1\" class=\"dataframe\">\n",
       "  <thead>\n",
       "    <tr style=\"text-align: right;\">\n",
       "      <th></th>\n",
       "      <th>temperature</th>\n",
       "      <th>gender</th>\n",
       "      <th>heart_rate</th>\n",
       "    </tr>\n",
       "  </thead>\n",
       "  <tbody>\n",
       "    <tr>\n",
       "      <th>0</th>\n",
       "      <td>99.3</td>\n",
       "      <td>F</td>\n",
       "      <td>68.0</td>\n",
       "    </tr>\n",
       "    <tr>\n",
       "      <th>1</th>\n",
       "      <td>98.4</td>\n",
       "      <td>F</td>\n",
       "      <td>81.0</td>\n",
       "    </tr>\n",
       "    <tr>\n",
       "      <th>2</th>\n",
       "      <td>97.8</td>\n",
       "      <td>M</td>\n",
       "      <td>73.0</td>\n",
       "    </tr>\n",
       "    <tr>\n",
       "      <th>3</th>\n",
       "      <td>99.2</td>\n",
       "      <td>F</td>\n",
       "      <td>66.0</td>\n",
       "    </tr>\n",
       "    <tr>\n",
       "      <th>4</th>\n",
       "      <td>98.0</td>\n",
       "      <td>F</td>\n",
       "      <td>73.0</td>\n",
       "    </tr>\n",
       "  </tbody>\n",
       "</table>\n",
       "</div>"
      ],
      "text/plain": [
       "   temperature gender  heart_rate\n",
       "0         99.3      F        68.0\n",
       "1         98.4      F        81.0\n",
       "2         97.8      M        73.0\n",
       "3         99.2      F        66.0\n",
       "4         98.0      F        73.0"
      ]
     },
     "execution_count": 3,
     "metadata": {},
     "output_type": "execute_result"
    }
   ],
   "source": [
    "df.head()"
   ]
  },
  {
   "cell_type": "markdown",
   "metadata": {},
   "source": [
    "### Q1: Is the distribution of body temperatures normal?\n",
    "    "
   ]
  },
  {
   "cell_type": "code",
   "execution_count": 4,
   "metadata": {},
   "outputs": [
    {
     "data": {
      "text/plain": [
       "(array([0.05128205, 0.07692308, 0.12820513, 0.23076923, 0.23076923,\n",
       "        0.58974359, 0.46153846, 0.56410256, 0.51282051, 0.28205128,\n",
       "        0.12820513, 0.        , 0.05128205, 0.        , 0.02564103]),\n",
       " array([ 96.3,  96.6,  96.9,  97.2,  97.5,  97.8,  98.1,  98.4,  98.7,\n",
       "         99. ,  99.3,  99.6,  99.9, 100.2, 100.5, 100.8]),\n",
       " <a list of 15 Patch objects>)"
      ]
     },
     "execution_count": 4,
     "metadata": {},
     "output_type": "execute_result"
    },
    {
     "data": {
      "image/png": "[encoded data removed]",
      "text/plain": [
       "<Figure size 432x288 with 1 Axes>"
      ]
     },
     "metadata": {},
     "output_type": "display_data"
    }
   ],
   "source": [
    "import matplotlib.pyplot as plt\n",
    "plt.hist(df['temperature'],bins=15,density=True)"
   ]
  },
  {
   "cell_type": "code",
   "execution_count": 5,
   "metadata": {},
   "outputs": [],
   "source": [
    "import numpy as np\n",
    "\n",
    "temp=df['temperature'].values\n"
   ]
  },
  {
   "cell_type": "code",
   "execution_count": 6,
   "metadata": {},
   "outputs": [],
   "source": [
    "# define a emperical cumulative distribution function\n",
    "\n",
    "def ecdf (data):\n",
    "    '''this function defines an emperical cumulative distribution function'''\n",
    "    \n",
    "    n=len(data)\n",
    "    x=np.sort(data)\n",
    "    y=np.arange(1,n+1)/n\n",
    "    \n",
    "    return x,y\n",
    "    "
   ]
  },
  {
   "cell_type": "code",
   "execution_count": 7,
   "metadata": {},
   "outputs": [
    {
     "data": {
      "image/png": "[encoded data removed]",
      "text/plain": [
       "<Figure size 432x288 with 1 Axes>"
      ]
     },
     "metadata": {},
     "output_type": "display_data"
    }
   ],
   "source": [
    "# simulate a normal distribution and compare the CDF of the simulation vs the real sample we have\n",
    "\n",
    "sim=np.random.normal(np.mean(temp),np.std(temp),10000)\n",
    "\n",
    "x,y= ecdf(temp)\n",
    "x_theor,y_theor=ecdf(sim)\n",
    "\n",
    "plt.plot(x_theor,y_theor)\n",
    "plt.plot(x,y,marker='.',linestyle='none')\n",
    "plt.show()\n"
   ]
  },
  {
   "cell_type": "markdown",
   "metadata": {},
   "source": [
    "We see that the sample fit closely to the theorical normal distribution. Therefore the body temp follows normal distribution."
   ]
  },
  {
   "cell_type": "markdown",
   "metadata": {},
   "source": [
    "### Q2: Is the sample size large? Are the observations independent?"
   ]
  },
  {
   "cell_type": "code",
   "execution_count": 8,
   "metadata": {},
   "outputs": [
    {
     "data": {
      "text/plain": [
       "temperature    130\n",
       "gender         130\n",
       "heart_rate     130\n",
       "dtype: int64"
      ]
     },
     "execution_count": 8,
     "metadata": {},
     "output_type": "execute_result"
    }
   ],
   "source": [
    "df.count()"
   ]
  },
  {
   "cell_type": "markdown",
   "metadata": {},
   "source": [
    "130 is good sample size (from central limit theorem, usually sample size >30, the sampling distribution of sample mean is normally distributed). Since 130 is tiny fraction of the whole human population we can consider the samples are independent."
   ]
  },
  {
   "cell_type": "markdown",
   "metadata": {},
   "source": [
    "### Q3: Is the true population mean really 98.6 degrees F?\n",
    "    *First, try a bootstrap hypothesis test.\n",
    "    *Now, let's try frequentist statistical testing. Would you use a one-sample or two-sample test? Why?\n",
    "    *In this situation, is it appropriate to use the  t  or  z  statistic?\n",
    "    *Now try using the other test. How is the result be different? Why?"
   ]
  },
  {
   "cell_type": "code",
   "execution_count": 9,
   "metadata": {},
   "outputs": [],
   "source": [
    "# define a function which draws bootstrap replicas\n",
    "\n",
    "def bs_replica(data,func):\n",
    "    '''Draw 1 bootstrap replica'''\n",
    "    \n",
    "    return func(np.random.choice(data,size=len(data)))\n",
    "\n",
    "def draw_bs_replicas(data,func,size=1):\n",
    "    '''Draw bootstrap replicas'''\n",
    "    \n",
    "    replicas=np.empty(size)\n",
    "    \n",
    "    for i in range(size):\n",
    "        replicas[i]=bs_replica(data,func)\n",
    "    \n",
    "    return replicas\n"
   ]
  },
  {
   "cell_type": "code",
   "execution_count": 10,
   "metadata": {},
   "outputs": [
    {
     "name": "stdout",
     "output_type": "stream",
     "text": [
      "sample mean is  98.24923076923075\n"
     ]
    },
    {
     "data": {
      "image/png": "[encoded data removed]",
      "text/plain": [
       "<Figure size 432x288 with 1 Axes>"
      ]
     },
     "metadata": {},
     "output_type": "display_data"
    }
   ],
   "source": [
    "# null hypothesis: true population mean is 98.6F\n",
    "\n",
    "temp_mean=np.mean(temp)\n",
    "print('sample mean is ',temp_mean)\n",
    "temp_shifted=temp-temp_mean+98.6\n",
    "temp_reps=draw_bs_replicas(temp_shifted,np.mean,size=10000)\n",
    "plt.hist(temp_reps)\n",
    "plt.show()\n",
    "\n"
   ]
  },
  {
   "cell_type": "code",
   "execution_count": 11,
   "metadata": {},
   "outputs": [
    {
     "data": {
      "text/plain": [
       "0.0"
      ]
     },
     "execution_count": 11,
     "metadata": {},
     "output_type": "execute_result"
    }
   ],
   "source": [
    "p=np.sum(temp_reps<=temp_mean)/len(temp_reps)\n",
    "p"
   ]
  },
  {
   "cell_type": "markdown",
   "metadata": {},
   "source": [
    "We can reject the null hypothesis given that p-value is so low. \n",
    "\n",
    "Alternatively we can also compute confidence level. \n",
    "Since the sample size is larger than 30, we should use z-statistics. I assume 5% confidence interval."
   ]
  },
  {
   "cell_type": "markdown",
   "metadata": {},
   "source": [
    "temp_fre_reps=draw_bs_replicas(temp,np.mean,size=10000)\n",
    "plt.hist(temp_fre_reps,density=True)\n",
    "plt.show()"
   ]
  },
  {
   "cell_type": "code",
   "execution_count": 13,
   "metadata": {},
   "outputs": [
    {
     "data": {
      "text/plain": [
       "array([98.12153846, 98.37230769])"
      ]
     },
     "execution_count": 13,
     "metadata": {},
     "output_type": "execute_result"
    }
   ],
   "source": [
    "np.percentile(temp_fre_reps,[2.5,97.5])"
   ]
  },
  {
   "cell_type": "markdown",
   "metadata": {},
   "source": [
    "Since 98.6 is not in this confidence interval, we can say that it's unlikely mean is 98.6"
   ]
  },
  {
   "cell_type": "code",
   "execution_count": 14,
   "metadata": {},
   "outputs": [
    {
     "data": {
      "text/plain": [
       "[98.12367980442816, 98.37478173403333]"
      ]
     },
     "execution_count": 14,
     "metadata": {},
     "output_type": "execute_result"
    }
   ],
   "source": [
    "# use the z table to calculate it and we get similar result as we get from simulation\n",
    "\n",
    "mean=np.mean(temp)\n",
    "se=np.std(temp)/np.sqrt(130)\n",
    "z=1.96\n",
    "[mean-z*se,mean+z*se]"
   ]
  },
  {
   "cell_type": "markdown",
   "metadata": {},
   "source": [
    "### Q4:Draw a small sample of size 10 from the data and repeat both frequentist tests.\n",
    "\n",
    "    Which one is the correct one to use?\n",
    "    What do you notice? What does this tell you about the difference in application of the  t  and  z  statistic?"
   ]
  },
  {
   "cell_type": "code",
   "execution_count": 15,
   "metadata": {},
   "outputs": [
    {
     "data": {
      "text/plain": [
       "[98.18174363697707, 98.61825636302294]"
      ]
     },
     "execution_count": 15,
     "metadata": {},
     "output_type": "execute_result"
    }
   ],
   "source": [
    "sample=np.random.choice(temp,10)\n",
    "mean=np.mean(sample)\n",
    "se=np.std(sample)/np.sqrt(10)\n",
    "# if we were to use z \n",
    "z=1.96\n",
    "[mean-z*se,mean+z*se]"
   ]
  },
  {
   "cell_type": "code",
   "execution_count": 16,
   "metadata": {},
   "outputs": [
    {
     "data": {
      "text/plain": [
       "[98.14811434022558, 98.65188565977444]"
      ]
     },
     "execution_count": 16,
     "metadata": {},
     "output_type": "execute_result"
    }
   ],
   "source": [
    "#If we were to use t\n",
    "t=2.262\n",
    "[mean-t*se,mean+t*se]"
   ]
  },
  {
   "cell_type": "markdown",
   "metadata": {},
   "source": [
    "### Q5: At what temperature should we consider someone's temperature to be \"abnormal\"?\n",
    "\n",
    "As in the previous example, try calculating everything using the boostrap approach, as well as the frequentist approach.\n",
    "Start by computing the margin of error and confidence interval. When calculating the confidence interval, keep in mind that you should use the appropriate formula for one draw, and not N draws."
   ]
  },
  {
   "cell_type": "code",
   "execution_count": 20,
   "metadata": {},
   "outputs": [
    {
     "data": {
      "image/png": "[encoded data removed]",
      "text/plain": [
       "<Figure size 432x288 with 1 Axes>"
      ]
     },
     "metadata": {},
     "output_type": "display_data"
    }
   ],
   "source": [
    "temp_fre_reps=draw_bs_replicas(temp,np.mean,size=10000)\n",
    "plt.hist(temp_fre_reps,density=True)\n",
    "plt.show()"
   ]
  },
  {
   "cell_type": "code",
   "execution_count": 21,
   "metadata": {},
   "outputs": [
    {
     "data": {
      "text/plain": [
       "array([98.12153846, 98.37538462])"
      ]
     },
     "execution_count": 21,
     "metadata": {},
     "output_type": "execute_result"
    }
   ],
   "source": [
    "np.percentile(temp_fre_reps,[2.5,97.5])"
   ]
  },
  {
   "cell_type": "markdown",
   "metadata": {},
   "source": [
    "Temperature which is outside of this range is considered abnormal. Alternatively we can use z-statistics to calculate this.\n"
   ]
  },
  {
   "cell_type": "code",
   "execution_count": 22,
   "metadata": {},
   "outputs": [
    {
     "data": {
      "text/plain": [
       "[98.12367980442816, 98.37478173403333]"
      ]
     },
     "execution_count": 22,
     "metadata": {},
     "output_type": "execute_result"
    }
   ],
   "source": [
    "mean=np.mean(temp)\n",
    "se=np.std(temp)/np.sqrt(130)\n",
    "z=1.96\n",
    "[mean-z*se,mean+z*se]"
   ]
  },
  {
   "cell_type": "markdown",
   "metadata": {},
   "source": [
    "### Q6: Is there a significant difference between males and females in normal temperature?\n",
    "\n",
    "What testing approach did you use and why?\n",
    "Write a story with your conclusion in the context of the original problem.\n"
   ]
  },
  {
   "cell_type": "code",
   "execution_count": 27,
   "metadata": {},
   "outputs": [],
   "source": [
    "males=df[df['gender']=='M']['temperature'].values\n",
    "\n",
    "females=df[df['gender']=='F']['temperature'].values"
   ]
  },
  {
   "cell_type": "code",
   "execution_count": 41,
   "metadata": {},
   "outputs": [
    {
     "data": {
      "text/plain": [
       "-0.2892307692307696"
      ]
     },
     "execution_count": 41,
     "metadata": {},
     "output_type": "execute_result"
    }
   ],
   "source": [
    "m_mean=np.mean(males)\n",
    "f_mean=np.mean(females)\n",
    "diff_mean=m_mean-f_mean\n",
    "diff_mean"
   ]
  },
  {
   "cell_type": "code",
   "execution_count": 42,
   "metadata": {},
   "outputs": [],
   "source": [
    "# Hypothesis there is no significant difference b/t males and females normal temperature. Assume 5% confidence level\n",
    "\n",
    "def bs_1D (males,females,func):\n",
    "    '''Draw one bootstrap replica'''\n",
    "    m=len(males)\n",
    "    f=len(females)\n",
    "    mix=np.concatenate((males,females))\n",
    "    mix_permutate=np.random.permutation(mix)\n",
    "    perm_male=mix_permutate[:m]\n",
    "    perm_female=mix_permutate[m:]\n",
    "    return func(perm_male,perm_female)\n",
    "\n",
    "def diff (data1, data2):\n",
    "    return np.mean(data1)-np.mean(data2)\n",
    "\n"
   ]
  },
  {
   "cell_type": "code",
   "execution_count": 43,
   "metadata": {},
   "outputs": [
    {
     "data": {
      "text/plain": [
       "(array([0.02665615, 0.16096215, 0.85607256, 1.92847003, 2.95473186,\n",
       "        2.61537855, 1.24156151, 0.39061514, 0.06869085, 0.00922713]),\n",
       " array([-0.46153846, -0.364     , -0.26646154, -0.16892308, -0.07138462,\n",
       "         0.02615385,  0.12369231,  0.22123077,  0.31876923,  0.41630769,\n",
       "         0.51384615]),\n",
       " <a list of 10 Patch objects>)"
      ]
     },
     "execution_count": 43,
     "metadata": {},
     "output_type": "execute_result"
    },
    {
     "data": {
      "image/png": "[encoded data removed]",
      "text/plain": [
       "<Figure size 432x288 with 1 Axes>"
      ]
     },
     "metadata": {},
     "output_type": "display_data"
    }
   ],
   "source": [
    "bs_replicas= np.empty(10000)\n",
    "\n",
    "for i in range (10000):\n",
    "    bs_replicas[i]=bs_1D(males,females,diff)\n",
    "\n",
    "plt.hist(bs_replicas, density=True)"
   ]
  },
  {
   "cell_type": "code",
   "execution_count": 44,
   "metadata": {},
   "outputs": [
    {
     "data": {
      "text/plain": [
       "0.012"
      ]
     },
     "execution_count": 44,
     "metadata": {},
     "output_type": "execute_result"
    }
   ],
   "source": [
    "# calculate p-value that difference will be more extremed than we observed \n",
    "\n",
    "p=np.sum(bs_replicas<diff_mean)/len(bs_replicas)\n",
    "p"
   ]
  },
  {
   "cell_type": "markdown",
   "metadata": {},
   "source": [
    "Since p<5% so we can reject the hypothesis. There is low probability that the difference we observed is by chance There is significant difference b/t males and females normal temperature."
   ]
  },
  {
   "cell_type": "code",
   "execution_count": null,
   "metadata": {},
   "outputs": [],
   "source": []
  }
 ],
 "metadata": {
  "kernelspec": {
   "display_name": "Python 3",
   "language": "python",
   "name": "python3"
  },
  "language_info": {
   "codemirror_mode": {
    "name": "ipython",
    "version": 3
   },
   "file_extension": ".py",
   "mimetype": "text/x-python",
   "name": "python",
   "nbconvert_exporter": "python",
   "pygments_lexer": "ipython3",
   "version": "3.5.5"
  }
 },
 "nbformat": 4,
 "nbformat_minor": 1
}
